{
  "nbformat": 4,
  "nbformat_minor": 0,
  "metadata": {
    "colab": {
      "provenance": [],
      "authorship_tag": "ABX9TyN9/in8tF040qKgOgk+RlO4",
      "include_colab_link": true
    },
    "kernelspec": {
      "name": "python3",
      "display_name": "Python 3"
    },
    "language_info": {
      "name": "python"
    }
  },
  "cells": [
    {
      "cell_type": "markdown",
      "metadata": {
        "id": "view-in-github",
        "colab_type": "text"
      },
      "source": [
        "<a href=\"https://colab.research.google.com/github/Pratik94229/Data_Structures/blob/main/Linked-List/Doubly_linked_list.ipynb\" target=\"_parent\"><img src=\"https://colab.research.google.com/assets/colab-badge.svg\" alt=\"Open In Colab\"/></a>"
      ]
    },
    {
      "cell_type": "code",
      "execution_count": 1,
      "metadata": {
        "id": "Rmg2805flAwB"
      },
      "outputs": [],
      "source": [
        "#creating new node\n",
        "class Node:\n",
        "    def __init__(self, value):\n",
        "        self.value = value\n",
        "        self.next = None\n",
        "        self.prev = None\n",
        "\n",
        "\n",
        "class DoublyLinkedList:\n",
        "    def __init__(self, value):\n",
        "        new_node = Node(value)\n",
        "        self.head = new_node\n",
        "        self.tail = new_node\n",
        "        self.length = 1\n",
        "\n",
        "#method for printing created linked pist\n",
        "    def print_list(self):\n",
        "        temp = self.head\n",
        "        while temp is not None:\n",
        "            print(temp.value)\n",
        "            temp = temp.next\n"
      ]
    },
    {
      "cell_type": "code",
      "source": [
        "my_doubly_linked_list = DoublyLinkedList(7)\n",
        "my_doubly_linked_list.print_list()"
      ],
      "metadata": {
        "colab": {
          "base_uri": "https://localhost:8080/"
        },
        "id": "i0xFxZzN2_Il",
        "outputId": "3b53b40d-a1c6-4a0f-c8ba-01f60977a9ca"
      },
      "execution_count": 2,
      "outputs": [
        {
          "output_type": "stream",
          "name": "stdout",
          "text": [
            "7\n"
          ]
        }
      ]
    },
    {
      "cell_type": "code",
      "source": [
        "#creating method to append element\n",
        "class Node:\n",
        "    def __init__(self, value):\n",
        "        self.value = value\n",
        "        self.next = None\n",
        "        self.prev = None\n",
        "\n",
        "\n",
        "class DoublyLinkedList:\n",
        "    def __init__(self, value):\n",
        "        new_node = Node(value)\n",
        "        self.head = new_node\n",
        "        self.tail = new_node\n",
        "        self.length = 1\n",
        "\n",
        "    def print_list(self):\n",
        "        temp = self.head\n",
        "        while temp is not None:\n",
        "            print(temp.value)\n",
        "            temp = temp.next\n",
        "\n",
        "    def append(self, value):\n",
        "        new_node = Node(value)\n",
        "        #if linked list is empty\n",
        "        if self.head is None:\n",
        "            self.head = new_node\n",
        "            self.tail = new_node\n",
        "        else:\n",
        "            self.tail.next = new_node\n",
        "            new_node.prev = self.tail\n",
        "            self.tail = new_node\n",
        "        self.length += 1\n",
        "        return True\n",
        "\n",
        "\n"
      ],
      "metadata": {
        "id": "AZ9kJ1HsmCAg"
      },
      "execution_count": 3,
      "outputs": []
    },
    {
      "cell_type": "code",
      "source": [
        "my_doubly_linked_list = DoublyLinkedList(1)\n",
        "my_doubly_linked_list.append(2)\n",
        "my_doubly_linked_list.print_list()"
      ],
      "metadata": {
        "colab": {
          "base_uri": "https://localhost:8080/"
        },
        "id": "1TukgW2h3Fmb",
        "outputId": "66dcda32-8661-4f08-e131-b551e24e58ef"
      },
      "execution_count": 4,
      "outputs": [
        {
          "output_type": "stream",
          "name": "stdout",
          "text": [
            "1\n",
            "2\n"
          ]
        }
      ]
    },
    {
      "cell_type": "code",
      "source": [
        "#creating method to pop element\n",
        "class Node:\n",
        "    def __init__(self, value):\n",
        "        self.value = value\n",
        "        self.next = None\n",
        "        self.prev = None\n",
        "\n",
        "\n",
        "class DoublyLinkedList:\n",
        "    def __init__(self, value):\n",
        "        new_node = Node(value)\n",
        "        self.head = new_node\n",
        "        self.tail = new_node\n",
        "        self.length = 1\n",
        "\n",
        "    def print_list(self):\n",
        "        temp = self.head\n",
        "        while temp is not None:\n",
        "            print(temp.value)\n",
        "            temp = temp.next\n",
        "\n",
        "    def append(self, value):\n",
        "        new_node = Node(value)\n",
        "        if self.head is None:\n",
        "            self.head = new_node\n",
        "            self.tail = new_node\n",
        "        else:\n",
        "            self.tail.next = new_node\n",
        "            new_node.prev = self.tail\n",
        "            self.tail = new_node\n",
        "        self.length += 1\n",
        "        return True\n",
        "\n",
        "    def pop(self):\n",
        "      #if list is empty\n",
        "        if self.length == 0:\n",
        "            return None\n",
        "        temp = self.tail\n",
        "        #if list contains only one element\n",
        "        if self.length == 1:\n",
        "            self.head = None\n",
        "            self.tail = None\n",
        "        else:\n",
        "            self.tail = self.tail.prev\n",
        "            self.tail.next = None\n",
        "            temp.prev = None\n",
        "        self.length -= 1\n",
        "        return temp.value\n",
        "\n",
        "\n"
      ],
      "metadata": {
        "id": "hLlqFDVCmNg7"
      },
      "execution_count": 5,
      "outputs": []
    },
    {
      "cell_type": "code",
      "source": [
        "my_doubly_linked_list = DoublyLinkedList(1)\n",
        "my_doubly_linked_list.append(2)\n",
        "my_doubly_linked_list.print_list()"
      ],
      "metadata": {
        "colab": {
          "base_uri": "https://localhost:8080/"
        },
        "id": "uyfHcbzX3Kgl",
        "outputId": "0d92baae-24aa-45f7-fddc-d4fb9dbfb82d"
      },
      "execution_count": 6,
      "outputs": [
        {
          "output_type": "stream",
          "name": "stdout",
          "text": [
            "1\n",
            "2\n"
          ]
        }
      ]
    },
    {
      "cell_type": "code",
      "source": [
        "# (2) Items - Returns 2 Node\n",
        "print(my_doubly_linked_list.pop())\n",
        "# (1) Item -  Returns 1 Node\n",
        "print(my_doubly_linked_list.pop())\n",
        "# (0) Items - Returns None\n",
        "print(my_doubly_linked_list.pop())"
      ],
      "metadata": {
        "colab": {
          "base_uri": "https://localhost:8080/"
        },
        "id": "_L-eJJku3K1Q",
        "outputId": "0859bb1c-7dd1-4426-9340-689a9ea77ee2"
      },
      "execution_count": 7,
      "outputs": [
        {
          "output_type": "stream",
          "name": "stdout",
          "text": [
            "2\n",
            "1\n",
            "None\n"
          ]
        }
      ]
    },
    {
      "cell_type": "code",
      "source": [
        "#creating method to prepend element\n",
        "class Node:\n",
        "    def __init__(self, value):\n",
        "        self.value = value\n",
        "        self.next = None\n",
        "        self.prev = None\n",
        "\n",
        "\n",
        "class DoublyLinkedList:\n",
        "    def __init__(self, value):\n",
        "        new_node = Node(value)\n",
        "        self.head = new_node\n",
        "        self.tail = new_node\n",
        "        self.length = 1\n",
        "\n",
        "    def print_list(self):\n",
        "        temp = self.head\n",
        "        while temp is not None:\n",
        "            print(temp.value)\n",
        "            temp = temp.next\n",
        "\n",
        "    def append(self, value):\n",
        "        new_node = Node(value)\n",
        "        if self.head is None:\n",
        "            self.head = new_node\n",
        "            self.tail = new_node\n",
        "        else:\n",
        "            self.tail.next = new_node\n",
        "            new_node.prev = self.tail\n",
        "            self.tail = new_node\n",
        "        self.length += 1\n",
        "        return True\n",
        "\n",
        "\n",
        "\n",
        "    def prepend(self, value):\n",
        "        new_node = Node(value)\n",
        "        #if list is empty\n",
        "        if self.length == 0:\n",
        "            self.head = new_node\n",
        "            self.tail = new_node\n",
        "        else:\n",
        "            new_node.next = self.head\n",
        "            self.head.prev = new_node\n",
        "            self.head = new_node\n",
        "        self.length += 1\n",
        "        return True"
      ],
      "metadata": {
        "id": "iGolOvHwmNkO"
      },
      "execution_count": 8,
      "outputs": []
    },
    {
      "cell_type": "code",
      "source": [
        "my_doubly_linked_list = DoublyLinkedList(2)\n",
        "my_doubly_linked_list.append(3)\n",
        "my_doubly_linked_list.print_list()"
      ],
      "metadata": {
        "colab": {
          "base_uri": "https://localhost:8080/"
        },
        "id": "GwnBXCal24s1",
        "outputId": "dcfe1f37-35a1-4e69-c568-09bfcc93e81b"
      },
      "execution_count": 9,
      "outputs": [
        {
          "output_type": "stream",
          "name": "stdout",
          "text": [
            "2\n",
            "3\n"
          ]
        }
      ]
    },
    {
      "cell_type": "code",
      "source": [
        "my_doubly_linked_list.prepend(1)\n",
        "my_doubly_linked_list.prepend(9)\n",
        "my_doubly_linked_list.print_list()"
      ],
      "metadata": {
        "colab": {
          "base_uri": "https://localhost:8080/"
        },
        "id": "U9iDz6FM2wv2",
        "outputId": "4069750e-7e42-4cea-d5ab-8bb5c8a7bc7f"
      },
      "execution_count": 10,
      "outputs": [
        {
          "output_type": "stream",
          "name": "stdout",
          "text": [
            "9\n",
            "1\n",
            "2\n",
            "3\n"
          ]
        }
      ]
    },
    {
      "cell_type": "code",
      "source": [
        "#method to pop first element\n",
        "class Node:\n",
        "    def __init__(self, value):\n",
        "        self.value = value\n",
        "        self.next = None\n",
        "        self.prev = None\n",
        "\n",
        "\n",
        "class DoublyLinkedList:\n",
        "    def __init__(self, value):\n",
        "        new_node = Node(value)\n",
        "        self.head = new_node\n",
        "        self.tail = new_node\n",
        "        self.length = 1\n",
        "\n",
        "    def print_list(self):\n",
        "        temp = self.head\n",
        "        while temp is not None:\n",
        "            print(temp.value)\n",
        "            temp = temp.next\n",
        "\n",
        "    def append(self, value):\n",
        "        new_node = Node(value)\n",
        "        if self.head is None:\n",
        "            self.head = new_node\n",
        "            self.tail = new_node\n",
        "        else:\n",
        "            self.tail.next = new_node\n",
        "            new_node.prev = self.tail\n",
        "            self.tail = new_node\n",
        "        self.length += 1\n",
        "        return True\n",
        "\n",
        "    def pop_first(self):\n",
        "        if self.length == 0:\n",
        "            return None\n",
        "        temp = self.head\n",
        "        if self.length == 1:\n",
        "            self.head = None\n",
        "            self.tail = None\n",
        "        else:\n",
        "            self.head = self.head.next\n",
        "            self.head.prev = None\n",
        "            temp.next = None\n",
        "        self.length -= 1\n",
        "        return temp.value\n",
        "\n"
      ],
      "metadata": {
        "id": "Cl-fBq1hmNnH"
      },
      "execution_count": 11,
      "outputs": []
    },
    {
      "cell_type": "code",
      "source": [
        "my_doubly_linked_list = DoublyLinkedList(2)\n",
        "my_doubly_linked_list.append(1)\n",
        "my_doubly_linked_list.print_list()"
      ],
      "metadata": {
        "colab": {
          "base_uri": "https://localhost:8080/"
        },
        "id": "I9D2LdkP5c-n",
        "outputId": "11a50c44-65ab-4874-a445-f7015f3f89bf"
      },
      "execution_count": 12,
      "outputs": [
        {
          "output_type": "stream",
          "name": "stdout",
          "text": [
            "2\n",
            "1\n"
          ]
        }
      ]
    },
    {
      "cell_type": "code",
      "source": [
        "# (2) Items - Returns 2 Node\n",
        "print(my_doubly_linked_list.pop_first())\n",
        "# (1) Item -  Returns 1 Node\n",
        "print(my_doubly_linked_list.pop_first())\n",
        "# (0) Items - Returns None\n",
        "print(my_doubly_linked_list.pop_first())"
      ],
      "metadata": {
        "colab": {
          "base_uri": "https://localhost:8080/"
        },
        "id": "V6VfuEm25abR",
        "outputId": "ea6dd34d-f99b-469a-b723-00224c128855"
      },
      "execution_count": 13,
      "outputs": [
        {
          "output_type": "stream",
          "name": "stdout",
          "text": [
            "2\n",
            "1\n",
            "None\n"
          ]
        }
      ]
    },
    {
      "cell_type": "code",
      "source": [
        "#creating get method to get item at particular index\n",
        "class Node:\n",
        "    def __init__(self, value):\n",
        "        self.value = value\n",
        "        self.next = None\n",
        "        self.prev = None\n",
        "\n",
        "\n",
        "class DoublyLinkedList:\n",
        "    def __init__(self, value):\n",
        "        new_node = Node(value)\n",
        "        self.head = new_node\n",
        "        self.tail = new_node\n",
        "        self.length = 1\n",
        "\n",
        "    def print_list(self):\n",
        "        temp = self.head\n",
        "        while temp is not None:\n",
        "            print(temp.value)\n",
        "            temp = temp.next\n",
        "\n",
        "    def append(self, value):\n",
        "        new_node = Node(value)\n",
        "        if self.head is None:\n",
        "            self.head = new_node\n",
        "            self.tail = new_node\n",
        "        else:\n",
        "            self.tail.next = new_node\n",
        "            new_node.prev = self.tail\n",
        "            self.tail = new_node\n",
        "        self.length += 1\n",
        "        return True\n",
        "\n",
        "    def get(self, index):\n",
        "        if index < 0 or index >= self.length:\n",
        "            return None\n",
        "        temp = self.head\n",
        "        #if index lies in 1st half\n",
        "        if index < self.length/2:\n",
        "            for _ in range(index):\n",
        "                temp = temp.next\n",
        "        else:\n",
        "            temp = self.tail\n",
        "            for _ in range(self.length - 1, index, -1):\n",
        "                temp = temp.prev\n",
        "        return temp.value\n",
        "\n"
      ],
      "metadata": {
        "id": "ZHFEBGBImNp3"
      },
      "execution_count": 14,
      "outputs": []
    },
    {
      "cell_type": "code",
      "source": [
        "my_doubly_linked_list = DoublyLinkedList(0)\n",
        "my_doubly_linked_list.append(1)\n",
        "my_doubly_linked_list.append(2)\n",
        "my_doubly_linked_list.append(3)\n",
        "my_doubly_linked_list.print_list()"
      ],
      "metadata": {
        "colab": {
          "base_uri": "https://localhost:8080/"
        },
        "id": "bFksTbJx7CZc",
        "outputId": "1910b370-1b04-4023-d735-0833df63c2d1"
      },
      "execution_count": 15,
      "outputs": [
        {
          "output_type": "stream",
          "name": "stdout",
          "text": [
            "0\n",
            "1\n",
            "2\n",
            "3\n"
          ]
        }
      ]
    },
    {
      "cell_type": "code",
      "source": [
        "print(my_doubly_linked_list.get(1))\n",
        "print(my_doubly_linked_list.get(2))"
      ],
      "metadata": {
        "colab": {
          "base_uri": "https://localhost:8080/"
        },
        "id": "ynUyOUxU7Ct0",
        "outputId": "719e22d0-f0c0-483d-d588-f8f2f07fda7c"
      },
      "execution_count": 16,
      "outputs": [
        {
          "output_type": "stream",
          "name": "stdout",
          "text": [
            "1\n",
            "2\n"
          ]
        }
      ]
    },
    {
      "cell_type": "code",
      "source": [
        "class Node:\n",
        "    def __init__(self, value):\n",
        "        self.value = value\n",
        "        self.next = None\n",
        "        self.prev = None\n",
        "\n",
        "\n",
        "class DoublyLinkedList:\n",
        "    def __init__(self, value):\n",
        "        new_node = Node(value)\n",
        "        self.head = new_node\n",
        "        self.tail = new_node\n",
        "        self.length = 1\n",
        "\n",
        "    def print_list(self):\n",
        "        temp = self.head\n",
        "        while temp is not None:\n",
        "            print(temp.value)\n",
        "            temp = temp.next\n",
        "\n",
        "    def append(self, value):\n",
        "        new_node = Node(value)\n",
        "        if self.head is None:\n",
        "            self.head = new_node\n",
        "            self.tail = new_node\n",
        "        else:\n",
        "            self.tail.next = new_node\n",
        "            new_node.prev = self.tail\n",
        "            self.tail = new_node\n",
        "        self.length += 1\n",
        "        return True\n",
        "\n",
        "\n",
        "\n",
        "\n",
        "\n",
        "\n",
        "\n",
        "    def get(self, index):\n",
        "        if index < 0 or index >= self.length:\n",
        "            return None\n",
        "        temp = self.head\n",
        "        if index < self.length/2:\n",
        "            for _ in range(index):\n",
        "                temp = temp.next\n",
        "        else:\n",
        "            temp = self.tail\n",
        "            for _ in range(self.length - 1, index, -1):\n",
        "                temp = temp.prev\n",
        "        return temp\n",
        "\n",
        "    def set_value(self, index, value):\n",
        "        temp = self.get(index)\n",
        "        if temp:\n",
        "            temp.value = value\n",
        "            return True\n",
        "        return False\n",
        "\n",
        "\n",
        "\n",
        "\n"
      ],
      "metadata": {
        "id": "aKWknqz9mNsu"
      },
      "execution_count": 17,
      "outputs": []
    },
    {
      "cell_type": "code",
      "source": [
        "my_doubly_linked_list = DoublyLinkedList(11)\n",
        "my_doubly_linked_list.append(3)\n",
        "my_doubly_linked_list.append(23)\n",
        "my_doubly_linked_list.append(7)\n",
        "my_doubly_linked_list.print_list()"
      ],
      "metadata": {
        "colab": {
          "base_uri": "https://localhost:8080/"
        },
        "id": "PdDRM9jYEOuP",
        "outputId": "06f99608-d267-40d6-c8a1-8b8b1b7ec663"
      },
      "execution_count": 18,
      "outputs": [
        {
          "output_type": "stream",
          "name": "stdout",
          "text": [
            "11\n",
            "3\n",
            "23\n",
            "7\n"
          ]
        }
      ]
    },
    {
      "cell_type": "code",
      "source": [
        "my_doubly_linked_list.set_value(1,4)\n",
        "my_doubly_linked_list.print_list()"
      ],
      "metadata": {
        "colab": {
          "base_uri": "https://localhost:8080/"
        },
        "id": "ExXvHvPmEWHj",
        "outputId": "c0c26c9c-a2cb-48c2-b6f1-5b3178b0598c"
      },
      "execution_count": 19,
      "outputs": [
        {
          "output_type": "stream",
          "name": "stdout",
          "text": [
            "11\n",
            "4\n",
            "23\n",
            "7\n"
          ]
        }
      ]
    },
    {
      "cell_type": "code",
      "source": [
        "#method to insert element at particular index in linked list\n",
        "class Node:\n",
        "    def __init__(self, value):\n",
        "        self.value = value\n",
        "        self.next = None\n",
        "        self.prev = None\n",
        "\n",
        "\n",
        "class DoublyLinkedList:\n",
        "    def __init__(self, value):\n",
        "        new_node = Node(value)\n",
        "        self.head = new_node\n",
        "        self.tail = new_node\n",
        "        self.length = 1\n",
        "\n",
        "    def print_list(self):\n",
        "        temp = self.head\n",
        "        while temp is not None:\n",
        "            print(temp.value)\n",
        "            temp = temp.next\n",
        "\n",
        "    def append(self, value):\n",
        "        new_node = Node(value)\n",
        "        if self.head is None:\n",
        "            self.head = new_node\n",
        "            self.tail = new_node\n",
        "        else:\n",
        "            self.tail.next = new_node\n",
        "            new_node.prev = self.tail\n",
        "            self.tail = new_node\n",
        "        self.length += 1\n",
        "        return True\n",
        "\n",
        "\n",
        "\n",
        "\n",
        "\n",
        "    def get(self, index):\n",
        "        if index < 0 or index >= self.length:\n",
        "            return None\n",
        "        temp = self.head\n",
        "        if index < self.length/2:\n",
        "            for _ in range(index):\n",
        "                temp = temp.next\n",
        "        else:\n",
        "            temp = self.tail\n",
        "            for _ in range(self.length - 1, index, -1):\n",
        "                temp = temp.prev\n",
        "        return temp\n",
        "\n",
        "    def set_value(self, index, value):\n",
        "        temp = self.get(index)\n",
        "        if temp:\n",
        "            temp.value = value\n",
        "            return True\n",
        "        return False\n",
        "\n",
        "    def insert(self, index, value):\n",
        "        if index < 0 or index > self.length:\n",
        "            return False\n",
        "        if index == 0:\n",
        "            return self.prepend(value)\n",
        "        if index == self.length:\n",
        "            return self.append(value)\n",
        "\n",
        "        new_node = Node(value)\n",
        "        before = self.get(index - 1)\n",
        "        after = before.next\n",
        "\n",
        "        new_node.prev = before\n",
        "        new_node.next = after\n",
        "        before.next = new_node\n",
        "        after.prev = new_node\n",
        "\n",
        "        self.length += 1\n",
        "        return True\n",
        "\n",
        "\n"
      ],
      "metadata": {
        "id": "GhqGHFAtmNu5"
      },
      "execution_count": 20,
      "outputs": []
    },
    {
      "cell_type": "code",
      "source": [
        "my_doubly_linked_list = DoublyLinkedList(1)\n",
        "my_doubly_linked_list.append(3)\n",
        "\n",
        "my_doubly_linked_list.print_list()"
      ],
      "metadata": {
        "colab": {
          "base_uri": "https://localhost:8080/"
        },
        "id": "Pm7mdEI2Ln1T",
        "outputId": "d6e640db-3cd1-4404-f184-521a08a3cb03"
      },
      "execution_count": 21,
      "outputs": [
        {
          "output_type": "stream",
          "name": "stdout",
          "text": [
            "1\n",
            "3\n"
          ]
        }
      ]
    },
    {
      "cell_type": "code",
      "source": [
        "my_doubly_linked_list.insert(1,2)\n",
        "\n",
        "my_doubly_linked_list.print_list()"
      ],
      "metadata": {
        "colab": {
          "base_uri": "https://localhost:8080/"
        },
        "id": "YCL7rhHILsQh",
        "outputId": "173a4552-e734-4015-b4aa-bd9e3cfdc185"
      },
      "execution_count": 22,
      "outputs": [
        {
          "output_type": "stream",
          "name": "stdout",
          "text": [
            "1\n",
            "2\n",
            "3\n"
          ]
        }
      ]
    },
    {
      "cell_type": "code",
      "source": [
        "#creating method to remove element from linked list\n",
        "class Node:\n",
        "    def __init__(self, value):\n",
        "        self.value = value\n",
        "        self.next = None\n",
        "        self.prev = None\n",
        "\n",
        "\n",
        "class DoublyLinkedList:\n",
        "    def __init__(self, value):\n",
        "        new_node = Node(value)\n",
        "        self.head = new_node\n",
        "        self.tail = new_node\n",
        "        self.length = 1\n",
        "\n",
        "    def print_list(self):\n",
        "        temp = self.head\n",
        "        while temp is not None:\n",
        "            print(temp.value)\n",
        "            temp = temp.next\n",
        "\n",
        "    def append(self, value):\n",
        "        new_node = Node(value)\n",
        "        if self.head is None:\n",
        "            self.head = new_node\n",
        "            self.tail = new_node\n",
        "        else:\n",
        "            self.tail.next = new_node\n",
        "            new_node.prev = self.tail\n",
        "            self.tail = new_node\n",
        "        self.length += 1\n",
        "        return True\n",
        "\n",
        "    def pop(self):\n",
        "        if self.length == 0:\n",
        "            return None\n",
        "        temp = self.tail\n",
        "        if self.length == 1:\n",
        "            self.head = None\n",
        "            self.tail = None\n",
        "        else:\n",
        "            self.tail = self.tail.prev\n",
        "            self.tail.next = None\n",
        "            temp.prev = None\n",
        "        self.length -= 1\n",
        "        return temp\n",
        "\n",
        "\n",
        "\n",
        "    def pop_first(self):\n",
        "        if self.length == 0:\n",
        "            return None\n",
        "        temp = self.head\n",
        "        if self.length == 1:\n",
        "            self.head = None\n",
        "            self.tail = None\n",
        "        else:\n",
        "            self.head = self.head.next\n",
        "            self.head.prev = None\n",
        "            temp.next = None\n",
        "        self.length -= 1\n",
        "        return temp\n",
        "\n",
        "    def get(self, index):\n",
        "        if index < 0 or index >= self.length:\n",
        "            return None\n",
        "        temp = self.head\n",
        "        if index < self.length/2:\n",
        "            for _ in range(index):\n",
        "                temp = temp.next\n",
        "        else:\n",
        "            temp = self.tail\n",
        "            for _ in range(self.length - 1, index, -1):\n",
        "                temp = temp.prev\n",
        "        return temp\n",
        "\n",
        "\n",
        "\n",
        "\n",
        "\n",
        "    def remove(self, index):\n",
        "        if index < 0 or index >= self.length:\n",
        "            return None\n",
        "        if index == 0:\n",
        "            return self.pop_first()\n",
        "        if index == self.length - 1:\n",
        "            return self.pop()\n",
        "\n",
        "        temp = self.get(index)\n",
        "\n",
        "        temp.next.prev = temp.prev\n",
        "        temp.prev.next = temp.next\n",
        "        temp.next = None\n",
        "        temp.prev = None\n",
        "\n",
        "        self.length -= 1\n",
        "        return temp\n",
        "\n"
      ],
      "metadata": {
        "id": "8IpAohuJmNyP"
      },
      "execution_count": 23,
      "outputs": []
    },
    {
      "cell_type": "code",
      "source": [
        "my_doubly_linked_list = DoublyLinkedList(0)\n",
        "my_doubly_linked_list.append(1)\n",
        "my_doubly_linked_list.append(2)\n",
        "my_doubly_linked_list.print_list()"
      ],
      "metadata": {
        "colab": {
          "base_uri": "https://localhost:8080/"
        },
        "id": "8WInhfxGOb8E",
        "outputId": "e088bf67-76da-4a79-efbf-3485baec6a1d"
      },
      "execution_count": 24,
      "outputs": [
        {
          "output_type": "stream",
          "name": "stdout",
          "text": [
            "0\n",
            "1\n",
            "2\n"
          ]
        }
      ]
    },
    {
      "cell_type": "code",
      "source": [
        "print(my_doubly_linked_list.remove(1), '\\n')\n",
        "\n",
        "my_doubly_linked_list.print_list()"
      ],
      "metadata": {
        "colab": {
          "base_uri": "https://localhost:8080/"
        },
        "id": "DIYKXhZfOk1O",
        "outputId": "f86b4e9d-a848-4dab-88c7-538773d90e8d"
      },
      "execution_count": 25,
      "outputs": [
        {
          "output_type": "stream",
          "name": "stdout",
          "text": [
            "<__main__.Node object at 0x7f452830e0b0> \n",
            "\n",
            "0\n",
            "2\n"
          ]
        }
      ]
    },
    {
      "cell_type": "code",
      "source": [
        "#combining all the code\n",
        "class Node:\n",
        "    def __init__(self, value):\n",
        "        self.value = value\n",
        "        self.next = None\n",
        "        self.prev = None\n",
        "\n",
        "\n",
        "class DoublyLinkedList:\n",
        "    def __init__(self, value):\n",
        "        new_node = Node(value)\n",
        "        self.head = new_node\n",
        "        self.tail = new_node\n",
        "        self.length = 1\n",
        "\n",
        "    def print_list(self):\n",
        "        temp = self.head\n",
        "        while temp is not None:\n",
        "            print(temp.value)\n",
        "            temp = temp.next\n",
        "\n",
        "    def append(self, value):\n",
        "        new_node = Node(value)\n",
        "        if self.head is None:\n",
        "            self.head = new_node\n",
        "            self.tail = new_node\n",
        "        else:\n",
        "            self.tail.next = new_node\n",
        "            new_node.prev = self.tail\n",
        "            self.tail = new_node\n",
        "        self.length += 1\n",
        "        return True\n",
        "\n",
        "    def pop(self):\n",
        "        if self.length == 0:\n",
        "            return None\n",
        "        temp = self.tail\n",
        "        if self.length == 1:\n",
        "            self.head = None\n",
        "            self.tail = None\n",
        "        else:\n",
        "            self.tail = self.tail.prev\n",
        "            self.tail.next = None\n",
        "            temp.prev = None\n",
        "        self.length -= 1\n",
        "        return temp\n",
        "\n",
        "    def prepend(self, value):\n",
        "        new_node = Node(value)\n",
        "        if self.length == 0:\n",
        "            self.head = new_node\n",
        "            self.tail = new_node\n",
        "        else:\n",
        "            new_node.next = self.head\n",
        "            self.head.prev = new_node\n",
        "            self.head = new_node\n",
        "        self.length += 1\n",
        "        return True\n",
        "\n",
        "    def pop_first(self):\n",
        "        if self.length == 0:\n",
        "            return None\n",
        "        temp = self.head\n",
        "        if self.length == 1:\n",
        "            self.head = None\n",
        "            self.tail = None\n",
        "        else:\n",
        "            self.head = self.head.next\n",
        "            self.head.prev = None\n",
        "            temp.next = None\n",
        "        self.length -= 1\n",
        "        return temp\n",
        "\n",
        "    def get(self, index):\n",
        "        if index < 0 or index >= self.length:\n",
        "            return None\n",
        "        temp = self.head\n",
        "        if index < self.length/2:\n",
        "            for _ in range(index):\n",
        "                temp = temp.next\n",
        "        else:\n",
        "            temp = self.tail\n",
        "            for _ in range(self.length - 1, index, -1):\n",
        "                temp = temp.prev\n",
        "        return temp\n",
        "\n",
        "    def set_value(self, index, value):\n",
        "        temp = self.get(index)\n",
        "        if temp:\n",
        "            temp.value = value\n",
        "            return True\n",
        "        return False\n",
        "\n",
        "    def insert(self, index, value):\n",
        "        if index < 0 or index > self.length:\n",
        "            return False\n",
        "        if index == 0:\n",
        "            return self.prepend(value)\n",
        "        if index == self.length:\n",
        "            return self.append(value)\n",
        "\n",
        "        new_node = Node(value)\n",
        "        before = self.get(index - 1)\n",
        "        after = before.next\n",
        "\n",
        "        new_node.prev = before\n",
        "        new_node.next = after\n",
        "        before.next = new_node\n",
        "        after.prev = new_node\n",
        "\n",
        "        self.length += 1\n",
        "        return True\n",
        "\n",
        "    def remove(self, index):\n",
        "        if index < 0 or index >= self.length:\n",
        "            return None\n",
        "        if index == 0:\n",
        "            return self.pop_first()\n",
        "        if index == self.length - 1:\n",
        "            return self.pop()\n",
        "\n",
        "        temp = self.get(index)\n",
        "\n",
        "        temp.next.prev = temp.prev\n",
        "        temp.prev.next = temp.next\n",
        "        temp.next = None\n",
        "        temp.prev = None\n",
        "\n",
        "        self.length -= 1\n",
        "        return temp\n",
        "\n"
      ],
      "metadata": {
        "id": "T7FnhYqEOAx4"
      },
      "execution_count": 26,
      "outputs": []
    }
  ]
}