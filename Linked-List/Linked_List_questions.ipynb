{
  "nbformat": 4,
  "nbformat_minor": 0,
  "metadata": {
    "colab": {
      "provenance": [],
      "authorship_tag": "ABX9TyOmzbOGtgB9YqN01jmt+Q6H",
      "include_colab_link": true
    },
    "kernelspec": {
      "name": "python3",
      "display_name": "Python 3"
    },
    "language_info": {
      "name": "python"
    }
  },
  "cells": [
    {
      "cell_type": "markdown",
      "metadata": {
        "id": "view-in-github",
        "colab_type": "text"
      },
      "source": [
        "<a href=\"https://colab.research.google.com/github/Pratik94229/Data_Structures/blob/main/Linked-List/Linked_List_questions.ipynb\" target=\"_parent\"><img src=\"https://colab.research.google.com/assets/colab-badge.svg\" alt=\"Open In Colab\"/></a>"
      ]
    },
    {
      "cell_type": "markdown",
      "source": [
        "**Question 1**\n",
        "\n",
        "You are given the heads of two sorted linked lists `list1` and `list2`.\n",
        "\n",
        "Merge the two lists in a one **sorted** list. The list should be made by splicing together the nodes of the first two lists.\n",
        "\n",
        "Return *the head of the merged linked list*.\n",
        "\n",
        "</aside>"
      ],
      "metadata": {
        "id": "qVcXWNMosZaE"
      }
    },
    {
      "cell_type": "code",
      "execution_count": 5,
      "metadata": {
        "id": "qioyPqXYsVUK"
      },
      "outputs": [],
      "source": [
        "def mergeTwoLists2(self, l1, l2):\n",
        "    if not l1 or not l2:\n",
        "        return l1 or l2\n",
        "    if l1.val < l2.val:\n",
        "        l1.next = self.mergeTwoLists(l1.next, l2)\n",
        "        return l1\n",
        "    else:\n",
        "        l2.next = self.mergeTwoLists(l1, l2.next)\n",
        "        return l2"
      ]
    },
    {
      "cell_type": "markdown",
      "source": [
        "**Question 2**\n",
        "\n",
        "Given the `head` of a singly linked list, return *the middle node of the linked list*.\n",
        "\n",
        "If there are two middle nodes, return **the second middle** node.\n"
      ],
      "metadata": {
        "id": "wBGhQDwqtB8z"
      }
    },
    {
      "cell_type": "code",
      "source": [
        "class Solution(object):\n",
        "    def middleNode(self, head):\n",
        "        # We need two pointers, one is head with one step each iteration, and the other is tmp with two steps each iteration.\n",
        "        temp = head\n",
        "        while temp and temp.next:\n",
        "            # In each iteration, we move head one node forward and we move temp two nodes forward...\n",
        "            head = head.next\n",
        "            temp = temp.next.next\n",
        "        # When temp reaches the last node, head will be exactly at the middle point...\n",
        "        return head"
      ],
      "metadata": {
        "id": "7H9YK5qotH6u"
      },
      "execution_count": 6,
      "outputs": []
    },
    {
      "cell_type": "markdown",
      "source": [
        "**Question 3**\n",
        "\n",
        "Given the `head` of a singly linked list, return `true` *if it is a*\n",
        "\n",
        "*palindrome or  false otherwise*\n"
      ],
      "metadata": {
        "id": "GLyz62TitM4R"
      }
    },
    {
      "cell_type": "code",
      "source": [
        "class Solution:\n",
        "    def isPalindrome(self, head):\n",
        "        slow, fast, prev = head, head, None\n",
        "        while fast and fast.next:\n",
        "            slow, fast = slow.next, fast.next.next\n",
        "        prev, slow, prev.next = slow, slow.next, None\n",
        "        while slow:\n",
        "            slow.next, prev, slow = prev, slow, slow.next\n",
        "        fast, slow = head, prev\n",
        "        while slow:\n",
        "            if fast.val != slow.val: return False\n",
        "            fast, slow = fast.next, slow.next\n",
        "        return True"
      ],
      "metadata": {
        "id": "7El78sB8tUMX"
      },
      "execution_count": 9,
      "outputs": []
    },
    {
      "cell_type": "markdown",
      "source": [
        "**Question 4**\n",
        "\n",
        "Given `head`, the head of a linked list, determine if the linked list has a cycle in it.\n",
        "\n",
        "There is a cycle in a linked list if there is some node in the list that can be reached again by continuously following the `next` pointer. Internally, `pos` is used to denote the index of the node that tail's `next` pointer is connected to. **Note that `pos` is not passed as a parameter**.\n",
        "\n",
        "Return `true` *if there is a cycle in the linked list*. Otherwise, return `false`.\n",
        "\n",
        "</aside>"
      ],
      "metadata": {
        "id": "-SPmdYnntbhm"
      }
    },
    {
      "cell_type": "code",
      "source": [
        "class Solution(object):\n",
        "    def hasCycle(self, head):\n",
        "        # Initialize two node slow and fast point to the hesd node...\n",
        "        fastptr = head\n",
        "        slowptr = head\n",
        "        while fastptr is not None and fastptr.next is not None:\n",
        "            # Move slow pointer by 1 node and fast at 2 at each step.\n",
        "            slowptr = slowptr.next\n",
        "            fastptr = fastptr.next.next\n",
        "            # If both the pointers meet at any point, then the cycle is present and return true...\n",
        "            if slowptr == fastptr:\n",
        "                return 1\n",
        "        return 0"
      ],
      "metadata": {
        "id": "yjytyrzWtgEx"
      },
      "execution_count": 8,
      "outputs": []
    }
  ]
}