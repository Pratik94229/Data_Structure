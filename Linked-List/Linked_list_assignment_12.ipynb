{
  "nbformat": 4,
  "nbformat_minor": 0,
  "metadata": {
    "colab": {
      "provenance": [],
      "authorship_tag": "ABX9TyP83ilcacSDCj7k+ytCmbJa",
      "include_colab_link": true
    },
    "kernelspec": {
      "name": "python3",
      "display_name": "Python 3"
    },
    "language_info": {
      "name": "python"
    }
  },
  "cells": [
    {
      "cell_type": "markdown",
      "metadata": {
        "id": "view-in-github",
        "colab_type": "text"
      },
      "source": [
        "<a href=\"https://colab.research.google.com/github/Pratik94229/Data_Structures/blob/main/Linked-List/Linked_list_assignment_12.ipynb\" target=\"_parent\"><img src=\"https://colab.research.google.com/assets/colab-badge.svg\" alt=\"Open In Colab\"/></a>"
      ]
    },
    {
      "cell_type": "markdown",
      "source": [
        "**Question 1**\n",
        "\n",
        "Given a singly linked list, delete **middle** of the linked list. For example, if given linked list is 1->2->**3**->4->5 then linked list should be modified to 1->2->4->5.If there are **even** nodes, then there would be **two middle** nodes, we need to delete the second middle element. For example, if given linked list is 1->2->3->4->5->6 then it should be modified to 1->2->3->5->6.If the input linked list is NULL or has 1 node, then it should return NULL\n",
        "\n",
        "**Example 1:**\n",
        "\n",
        "```\n",
        "Input:\n",
        "LinkedList: 1->2->3->4->5\n",
        "Output:1 2 4 5\n",
        "\n",
        "```\n",
        "\n",
        "**Example 2:**\n",
        "<aside>\n",
        "💡 **Question 1**\n",
        "\n",
        "Given a singly linked list, delete **middle** of the linked list. For example, if given linked list is 1->2->**3**->4->5 then linked list should be modified to 1->2->4->5.If there are **even** nodes, then there would be **two middle** nodes, we need to delete the second middle element. For example, if given linked list is 1->2->3->4->5->6 then it should be modified to 1->2->3->5->6.If the input linked list is NULL or has 1 node, then it should return NULL\n",
        "\n",
        "**Example 1:**\n",
        "\n",
        "```\n",
        "Input:\n",
        "LinkedList: 1->2->3->4->5\n",
        "Output:1 2 4 5\n",
        "\n",
        "```\n",
        "\n",
        "**Example 2:**\n",
        "```\n",
        "Input:\n",
        "LinkedList: 2->4->6->7->5->1\n",
        "Output:2 4 6 5 1\n"
      ],
      "metadata": {
        "id": "WoH_vBFmtoGt"
      }
    },
    {
      "cell_type": "code",
      "execution_count": 1,
      "metadata": {
        "id": "-q4iPJIqteaY"
      },
      "outputs": [],
      "source": [
        "class Node:\n",
        "    def __init__(self, data=None):\n",
        "        self.data = data\n",
        "        self.next = None\n",
        "\n",
        "def delete_middle(head):\n",
        "    # If the linked list is empty or has only one node\n",
        "    if head is None or head.next is None:\n",
        "        return None\n",
        "\n",
        "    slow_ptr = head\n",
        "    fast_ptr = head\n",
        "    prev_ptr = None\n",
        "\n",
        "    # Move the fast pointer two steps ahead and the slow pointer one step ahead\n",
        "    while fast_ptr is not None and fast_ptr.next is not None:\n",
        "        fast_ptr = fast_ptr.next.next\n",
        "        prev_ptr = slow_ptr\n",
        "        slow_ptr = slow_ptr.next\n",
        "\n",
        "    # Remove the middle node(s) by updating the previous node's next pointer\n",
        "    prev_ptr.next = slow_ptr.next\n",
        "\n",
        "    return head\n",
        "\n",
        "\n"
      ]
    },
    {
      "cell_type": "code",
      "source": [
        "def print_linked_list(head):\n",
        "    curr = head\n",
        "    while curr is not None:\n",
        "        print(curr.data, end=\" \")\n",
        "        curr = curr.next\n",
        "    print()\n",
        "\n",
        "# Example usage\n",
        "# Create the linked list 1->2->3->4->5\n",
        "head = Node(1)\n",
        "head.next = Node(2)\n",
        "head.next.next = Node(3)\n",
        "head.next.next.next = Node(4)\n",
        "head.next.next.next.next = Node(5)\n",
        "\n",
        "print(\"Original Linked List:\")\n",
        "print_linked_list(head)"
      ],
      "metadata": {
        "colab": {
          "base_uri": "https://localhost:8080/"
        },
        "id": "2n1NzfaduOyX",
        "outputId": "3da4ba6f-03ba-4cb6-8434-15c1793b66dd"
      },
      "execution_count": 2,
      "outputs": [
        {
          "output_type": "stream",
          "name": "stdout",
          "text": [
            "Original Linked List:\n",
            "1 2 3 4 5 \n"
          ]
        }
      ]
    },
    {
      "cell_type": "code",
      "source": [
        "head = delete_middle(head)\n",
        "\n",
        "print(\"Modified Linked List:\")\n",
        "print_linked_list(head)"
      ],
      "metadata": {
        "colab": {
          "base_uri": "https://localhost:8080/"
        },
        "id": "-SScy9-cucAZ",
        "outputId": "5e79832c-0fbc-4ba4-b98a-c07c57967192"
      },
      "execution_count": 3,
      "outputs": [
        {
          "output_type": "stream",
          "name": "stdout",
          "text": [
            "Modified Linked List:\n",
            "1 2 4 5 \n"
          ]
        }
      ]
    },
    {
      "cell_type": "markdown",
      "source": [
        " **Question 2**\n",
        "\n",
        "Given a linked list of **N** nodes. The task is to check if the linked list has a loop. Linked list can contain self loop.\n",
        "\n",
        "**Example 1:**\n",
        "\n",
        "```\n",
        "Input:\n",
        "N = 3\n",
        "value[] = {1,3,4}\n",
        "x(position at which tail is connected) = 2\n",
        "Output:True\n",
        "Explanation:In above test case N = 3.\n",
        "The linked list with nodes N = 3 is\n",
        "given. Then value of x=2 is given which\n",
        "means last node is connected with xth\n",
        "node of linked list. Therefore, there\n",
        "exists a loop.\n",
        "```\n",
        "\n",
        "**Example 2:**\n",
        "```\n",
        "Input:\n",
        "N = 4\n",
        "value[] = {1,8,3,4}\n",
        "x = 0\n",
        "Output:False\n",
        "Explanation:For N = 4 ,x = 0 means\n",
        "then lastNode->next = NULL, then\n",
        "the Linked list does not contains\n",
        "any loop.\n",
        "```"
      ],
      "metadata": {
        "id": "5B6S0pmKu8x6"
      }
    },
    {
      "cell_type": "code",
      "source": [
        "def has_loop(head):\n",
        "    slow_ptr = head\n",
        "    fast_ptr = head\n",
        "\n",
        "    while fast_ptr is not None and fast_ptr.next is not None:\n",
        "        slow_ptr = slow_ptr.next\n",
        "        fast_ptr = fast_ptr.next.next\n",
        "\n",
        "        if slow_ptr == fast_ptr:\n",
        "            return True\n",
        "\n",
        "    return False\n",
        "\n",
        "\n"
      ],
      "metadata": {
        "id": "Egnb5c6zvapV"
      },
      "execution_count": 4,
      "outputs": []
    },
    {
      "cell_type": "code",
      "source": [
        "# Example usage\n",
        "# Create the linked list with a loop\n",
        "head = Node(1)\n",
        "head.next = Node(2)\n",
        "head.next.next = Node(3)\n",
        "head.next.next.next = Node(4)\n",
        "head.next.next.next.next = head.next  # Creating a loop\n",
        "\n",
        "print(has_loop(head))  # Output: True\n"
      ],
      "metadata": {
        "colab": {
          "base_uri": "https://localhost:8080/"
        },
        "id": "zs1bRowXwR0y",
        "outputId": "1170a3aa-91fb-43b0-c7bb-3e2c37ae3514"
      },
      "execution_count": 5,
      "outputs": [
        {
          "output_type": "stream",
          "name": "stdout",
          "text": [
            "True\n"
          ]
        }
      ]
    },
    {
      "cell_type": "code",
      "source": [
        "# Resetting the linked list by removing the loop\n",
        "head.next.next.next.next = None\n",
        "\n",
        "print(has_loop(head))  # Output: False"
      ],
      "metadata": {
        "colab": {
          "base_uri": "https://localhost:8080/"
        },
        "id": "4N6C7Q19wZb5",
        "outputId": "8ecaba91-c2f7-40af-cc75-a1bb6d18025e"
      },
      "execution_count": 6,
      "outputs": [
        {
          "output_type": "stream",
          "name": "stdout",
          "text": [
            "False\n"
          ]
        }
      ]
    },
    {
      "cell_type": "markdown",
      "source": [
        "**Question 3**\n",
        "\n",
        "Given a linked list consisting of **L** nodes and given a number **N**. The task is to find the **N**th node from the end of the linked list.\n",
        "\n",
        "**Example 1:**\n",
        "\n",
        "```\n",
        "Input:\n",
        "N = 2\n",
        "LinkedList: 1->2->3->4->5->6->7->8->9\n",
        "Output:8\n",
        "Explanation:In the first example, there\n",
        "are 9 nodes in linked list and we need\n",
        "to find 2nd node from end. 2nd node\n",
        "from end is 8.\n",
        "\n",
        "```\n",
        "\n",
        "**Example 2:**\n",
        "```\n",
        "Input:\n",
        "N = 5\n",
        "LinkedList: 10->5->100->5\n",
        "Output:-1\n",
        "Explanation:In the second example, there\n",
        "are 4 nodes in the linked list and we\n",
        "need to find 5th from the end. Since 'n'\n",
        "is more than the number of nodes in the\n",
        "linked list, the output is -1.\n",
        "```\n"
      ],
      "metadata": {
        "id": "IYro1gXOx0ji"
      }
    },
    {
      "cell_type": "code",
      "source": [
        "def find_nth_from_end(head, n):\n",
        "    if n <= 0:\n",
        "        return None\n",
        "\n",
        "    slow_ptr = head\n",
        "    fast_ptr = head\n",
        "\n",
        "    # First moving the fast pointer N nodes ahead\n",
        "    for _ in range(n):\n",
        "        if fast_ptr is None:\n",
        "            return None\n",
        "        fast_ptr = fast_ptr.next\n",
        "\n",
        "    # Move both pointers until the fast pointer reaches the end\n",
        "    while fast_ptr is not None:\n",
        "        slow_ptr = slow_ptr.next\n",
        "        fast_ptr = fast_ptr.next\n",
        "\n",
        "    # At this point, the slow pointer is pointing to the Nth node from the end\n",
        "    if slow_ptr is not None:\n",
        "        return slow_ptr.data\n",
        "    else:\n",
        "        return None\n"
      ],
      "metadata": {
        "id": "Oeo68BkRyMEt"
      },
      "execution_count": 7,
      "outputs": []
    },
    {
      "cell_type": "code",
      "source": [
        "# Example usage\n",
        "# Create the linked list\n",
        "head = Node(1)\n",
        "head.next = Node(2)\n",
        "head.next.next = Node(3)\n",
        "head.next.next.next = Node(4)\n",
        "head.next.next.next.next = Node(5)\n",
        "print(\"Original Linked List:\")\n",
        "print_linked_list(head)"
      ],
      "metadata": {
        "colab": {
          "base_uri": "https://localhost:8080/"
        },
        "id": "5CGvW10MzmOb",
        "outputId": "cf7f29f7-ede7-4d9a-bc0f-ded608031cd0"
      },
      "execution_count": 8,
      "outputs": [
        {
          "output_type": "stream",
          "name": "stdout",
          "text": [
            "Original Linked List:\n",
            "1 2 3 4 5 \n"
          ]
        }
      ]
    },
    {
      "cell_type": "code",
      "source": [
        "print(find_nth_from_end(head, 2))\n",
        "print(find_nth_from_end(head, 5))\n",
        "print(find_nth_from_end(head, 6))"
      ],
      "metadata": {
        "colab": {
          "base_uri": "https://localhost:8080/"
        },
        "id": "IzCMD7uOzqEl",
        "outputId": "15c26b4d-fce1-4183-f211-0ed5fa0c7ca8"
      },
      "execution_count": 9,
      "outputs": [
        {
          "output_type": "stream",
          "name": "stdout",
          "text": [
            "4\n",
            "1\n",
            "None\n"
          ]
        }
      ]
    },
    {
      "cell_type": "markdown",
      "source": [
        "**Question 4**\n",
        "\n",
        "Given a singly linked list of characters, write a function that returns true if the given list is a palindrome, else false.\n",
        "\n",
        "\n",
        "**Examples:**\n",
        "\n",
        "```\n",
        "Input: R->A->D->A->R->NULL\n",
        "```\n",
        "**Output:** Yes\n",
        "\n",
        "```\n",
        "Input: C->O->D->E->NULL\n",
        "```\n",
        "\n",
        "**Output:** No"
      ],
      "metadata": {
        "id": "T3rIb8850xiq"
      }
    },
    {
      "cell_type": "code",
      "source": [
        "def reverse_linked_list(head):\n",
        "    prev = None\n",
        "    current = head\n",
        "    while current is not None:\n",
        "        next_node = current.next\n",
        "        current.next = prev\n",
        "        prev = current\n",
        "        current = next_node\n",
        "    return prev\n",
        "\n",
        "def is_palindrome(head):\n",
        "    # Find the middle of the linked list\n",
        "    slow = head\n",
        "    fast = head\n",
        "    while fast is not None and fast.next is not None:\n",
        "        slow = slow.next\n",
        "        fast = fast.next.next\n",
        "\n",
        "    # Reverse the second half of the linked list\n",
        "    second_half = reverse_linked_list(slow)\n",
        "\n",
        "    # Compare the first half with the reversed second half\n",
        "    current1 = head\n",
        "    current2 = second_half\n",
        "    while current1 is not None and current2 is not None:\n",
        "        if current1.data != current2.data:\n",
        "            return False\n",
        "        current1 = current1.next\n",
        "        current2 = current2.next\n",
        "\n",
        "    # Restore the original linked list\n",
        "    reverse_linked_list(second_half)\n",
        "\n",
        "    return True\n",
        "\n"
      ],
      "metadata": {
        "id": "IYSn3tW30YIJ"
      },
      "execution_count": 10,
      "outputs": []
    },
    {
      "cell_type": "code",
      "source": [
        "# Create the linked list\n",
        "head = Node('R')\n",
        "head.next = Node('A')\n",
        "head.next.next = Node('D')\n",
        "head.next.next.next = Node('A')\n",
        "head.next.next.next.next = Node('R')\n",
        "\n",
        "print_linked_list(head)\n",
        "print(is_palindrome(head))\n"
      ],
      "metadata": {
        "colab": {
          "base_uri": "https://localhost:8080/"
        },
        "id": "7xA73WLu4IOm",
        "outputId": "34650eef-3b28-45ff-9994-1c3265263cf2"
      },
      "execution_count": 11,
      "outputs": [
        {
          "output_type": "stream",
          "name": "stdout",
          "text": [
            "R A D A R \n",
            "True\n"
          ]
        }
      ]
    },
    {
      "cell_type": "code",
      "source": [
        "head = Node('C')\n",
        "head.next = Node('O')\n",
        "head.next.next = Node('D')\n",
        "head.next.next.next = Node('E')\n",
        "\n",
        "print_linked_list(head)\n",
        "print(is_palindrome(head))"
      ],
      "metadata": {
        "colab": {
          "base_uri": "https://localhost:8080/"
        },
        "id": "GWJfgN894Kvs",
        "outputId": "6defc000-2430-447d-fc15-3cf029281c8a"
      },
      "execution_count": 12,
      "outputs": [
        {
          "output_type": "stream",
          "name": "stdout",
          "text": [
            "C O D E \n",
            "False\n"
          ]
        }
      ]
    },
    {
      "cell_type": "markdown",
      "source": [
        " **Question 5**\n",
        "\n",
        "Given a linked list of **N** nodes such that it may contain a loop.\n",
        "\n",
        "A loop here means that the last node of the link list is connected to the node at position X(1-based index). If the link list does not have any loop, X=0.\n",
        "\n",
        "Remove the loop from the linked list, if it is present, i.e. unlink the last node which is forming the loop.\n",
        "\n",
        "**Example 1:**\n",
        "\n",
        "```\n",
        "Input:\n",
        "N = 3\n",
        "value[] = {1,3,4}\n",
        "X = 2\n",
        "Output:1\n",
        "Explanation:The link list looks like\n",
        "1 -> 3 -> 4\n",
        "     ^    |\n",
        "     |____|\n",
        "A loop is present. If you remove it\n",
        "successfully, the answer will be 1.\n",
        "\n",
        "```\n",
        "\n",
        "**Example 2:**\n",
        "\n",
        "```\n",
        "Input:\n",
        "N = 4\n",
        "value[] = {1,8,3,4}\n",
        "X = 0\n",
        "Output:1\n",
        "Explanation:The Linked list does not\n",
        "contains any loop.\n",
        "```\n",
        "\n",
        "**Example 3:**\n",
        "\n",
        "\n",
        "```\n",
        "Input:\n",
        "N = 4\n",
        "value[] = {1,2,3,4}\n",
        "X = 1\n",
        "Output:1\n",
        "Explanation:The link list looks like\n",
        "1 -> 2 -> 3 -> 4\n",
        "^              |\n",
        "|______________|\n",
        "A loop is present.\n",
        "If you remove it successfully,\n",
        "the answer will be 1.\n",
        "```"
      ],
      "metadata": {
        "id": "0jPiTmoOtfnm"
      }
    },
    {
      "cell_type": "code",
      "source": [
        "class Node:\n",
        "    def __init__(self, value):\n",
        "        self.data = value\n",
        "        self.next = None\n",
        "\n",
        "def detectAndRemoveLoop(head):\n",
        "    if head is None or head.next is None:\n",
        "        return\n",
        "\n",
        "    slow = head.next\n",
        "    fast = head.next.next\n",
        "\n",
        "    # Check if there is a loop\n",
        "    while fast and fast.next:\n",
        "        if slow == fast:\n",
        "            break\n",
        "        slow = slow.next\n",
        "        fast = fast.next.next\n",
        "\n",
        "    # If there is a loop, find the last node\n",
        "    if slow == fast:\n",
        "        slow = head\n",
        "        while slow.next != fast.next:\n",
        "            slow = slow.next\n",
        "            fast = fast.next\n",
        "\n",
        "        # Remove the loop\n",
        "        fast.next = None\n"
      ],
      "metadata": {
        "id": "shqRi0votuLE"
      },
      "execution_count": 14,
      "outputs": []
    },
    {
      "cell_type": "code",
      "source": [
        "def findX(head, X):\n",
        "    if X == 0:\n",
        "        return 0\n",
        "\n",
        "    curr = head\n",
        "    while curr:\n",
        "        if curr.data == X:\n",
        "            return 1\n",
        "        curr = curr.next\n",
        "\n",
        "    return 0\n",
        "\n",
        "# Create the linked list\n",
        "def createLinkedList(values):\n",
        "    head = Node(values[0])\n",
        "    curr = head\n",
        "    for i in range(1, len(values)):\n",
        "        new_node = Node(values[i])\n",
        "        curr.next = new_node\n",
        "        curr = new_node\n",
        "\n",
        "    return head"
      ],
      "metadata": {
        "id": "PbM0jtmPylhI"
      },
      "execution_count": 15,
      "outputs": []
    },
    {
      "cell_type": "code",
      "source": [
        "# Example usage\n",
        "N = 4\n",
        "values = [1, 2, 3, 4]\n",
        "X = 1\n",
        "\n",
        "head = createLinkedList(values)\n",
        "detectAndRemoveLoop(head)\n",
        "result = findX(head, X)\n",
        "print(result)\n"
      ],
      "metadata": {
        "colab": {
          "base_uri": "https://localhost:8080/"
        },
        "id": "_H8VYzmAyq_G",
        "outputId": "8541289e-bb08-4a5b-c33a-ff4c96c49676"
      },
      "execution_count": 16,
      "outputs": [
        {
          "output_type": "stream",
          "name": "stdout",
          "text": [
            "1\n"
          ]
        }
      ]
    },
    {
      "cell_type": "markdown",
      "source": [
        "**Question 6**\n",
        "\n",
        "Given a linked list and two integers M and N. Traverse the linked list such that you retain M nodes then delete next N nodes, continue the same till end of the linked list.\n",
        "\n",
        "Difficulty Level: Rookie\n",
        "\n",
        "**Examples**:\n",
        "```\n",
        "Input:\n",
        "M = 2, N = 2\n",
        "Linked List: 1->2->3->4->5->6->7->8\n",
        "Output:\n",
        "Linked List: 1->2->5->6\n",
        "```\n",
        "```\n",
        "Input:\n",
        "M = 3, N = 2\n",
        "Linked List: 1->2->3->4->5->6->7->8->9->10\n",
        "Output:\n",
        "Linked List: 1->2->3->6->7->8\n",
        "```\n",
        "```\n",
        "Input:\n",
        "M = 1, N = 1\n",
        "Linked List: 1->2->3->4->5->6->7->8->9->10\n",
        "Output:\n",
        "Linked List: 1->3->5->7->9\n",
        "```"
      ],
      "metadata": {
        "id": "Cp2ACqaFy2NU"
      }
    },
    {
      "cell_type": "code",
      "source": [
        "class Node:\n",
        "    def __init__(self, value):\n",
        "        self.data = value\n",
        "        self.next = None\n",
        "\n",
        "def retainAndDelete(head, M, N):\n",
        "    if M == 0:\n",
        "        return None\n",
        "\n",
        "    curr = head\n",
        "\n",
        "    # Traverse the linked list\n",
        "    while curr:\n",
        "        # Retain M nodes\n",
        "        for _ in range(M - 1):\n",
        "            if curr is None:\n",
        "                return head\n",
        "            curr = curr.next\n",
        "\n",
        "        if curr is None:\n",
        "            return head\n",
        "\n",
        "        # Delete N nodes\n",
        "        temp = curr.next\n",
        "        for _ in range(N):\n",
        "            if temp is None:\n",
        "                break\n",
        "            temp = temp.next\n",
        "\n",
        "        curr.next = temp\n",
        "        curr = temp\n",
        "\n",
        "    return head\n",
        "\n",
        "def printLinkedList(head):\n",
        "    curr = head\n",
        "    while curr:\n",
        "        print(curr.data, end=\" \")\n",
        "        curr = curr.next\n",
        "    print()\n"
      ],
      "metadata": {
        "id": "kqayDOQRzbnQ"
      },
      "execution_count": 18,
      "outputs": []
    },
    {
      "cell_type": "code",
      "source": [
        "# Example usage\n",
        "M = 2\n",
        "N = 2\n",
        "values = [1, 2, 3, 4, 5, 6, 7, 8]\n",
        "head = Node(values[0])\n",
        "curr = head\n",
        "for i in range(1, len(values)):\n",
        "    new_node = Node(values[i])\n",
        "    curr.next = new_node\n",
        "    curr = new_node\n",
        "\n",
        "print(\"Linked List before operation:\")\n",
        "printLinkedList(head)\n",
        "\n",
        "head = retainAndDelete(head, M, N)\n",
        "\n",
        "print(\"Linked List after operation:\")\n",
        "printLinkedList(head)"
      ],
      "metadata": {
        "colab": {
          "base_uri": "https://localhost:8080/"
        },
        "id": "upEHaP-izs_-",
        "outputId": "9bbdc8db-1a44-4468-dc20-1539df2a6ffb"
      },
      "execution_count": 19,
      "outputs": [
        {
          "output_type": "stream",
          "name": "stdout",
          "text": [
            "Linked List before operation:\n",
            "1 2 3 4 5 6 7 8 \n",
            "Linked List after operation:\n",
            "1 2 5 6 \n"
          ]
        }
      ]
    },
    {
      "cell_type": "markdown",
      "source": [
        "**Question 7**\n",
        "\n",
        "Given two linked lists, insert nodes of second list into first list at alternate positions of first list.\n",
        "\n",
        "For example, if first list is\n",
        "```\n",
        " 5->7->17->13->11 and second is 12->10->2->4->6,\n",
        " the first list should become 5->12->7->10->17->2->13->4->11->6 and second list should become empty.\n",
        " ```\n",
        "\n",
        " The nodes of second list should only be inserted when there are positions available. For example,\n",
        " ```\n",
        " if the first list is 1->2->3 and second list is 4->5->6->7->8, then first list should become 1->4->2->5->3->6 and second list to 7->8.\n",
        "```\n",
        "Use of extra space is not allowed (Not allowed to create additional nodes), i.e., insertion must be done in-place. Expected time complexity is O(n) where n is number of nodes in first list."
      ],
      "metadata": {
        "id": "iRrcs65FzwHk"
      }
    },
    {
      "cell_type": "code",
      "source": [
        "class Node:\n",
        "    def __init__(self, value):\n",
        "        self.data = value\n",
        "        self.next = None\n",
        "\n",
        "def insertAlternate(head1, head2):\n",
        "    if head1 is None:\n",
        "        return head2\n",
        "\n",
        "    curr1 = head1\n",
        "    curr2 = head2\n",
        "\n",
        "    while curr1 and curr2:\n",
        "        temp1 = curr1.next\n",
        "        temp2 = curr2.next\n",
        "\n",
        "        curr1.next = curr2\n",
        "        curr2.next = temp1\n",
        "\n",
        "        curr1 = temp1\n",
        "        curr2 = temp2\n",
        "\n",
        "    return head1\n",
        "\n",
        "def printLinkedList(head):\n",
        "    curr = head\n",
        "    while curr:\n",
        "        print(curr.data, end=\" \")\n",
        "        curr = curr.next\n",
        "    print()\n",
        "\n"
      ],
      "metadata": {
        "id": "8QaRAozz0RI7"
      },
      "execution_count": 20,
      "outputs": []
    },
    {
      "cell_type": "code",
      "source": [
        "# Example usage\n",
        "values1 = [5, 7, 17, 13, 11]\n",
        "values2 = [12, 10, 2, 4, 6]\n",
        "head1 = Node(values1[0])\n",
        "curr1 = head1\n",
        "for i in range(1, len(values1)):\n",
        "    new_node = Node(values1[i])\n",
        "    curr1.next = new_node\n",
        "    curr1 = new_node\n",
        "\n",
        "head2 = Node(values2[0])\n",
        "curr2 = head2\n",
        "for i in range(1, len(values2)):\n",
        "    new_node = Node(values2[i])\n",
        "    curr2.next = new_node\n",
        "    curr2 = new_node\n",
        "\n",
        "print(\"First Linked List before operation:\")\n",
        "printLinkedList(head1)\n",
        "print(\"Second Linked List before operation:\")\n",
        "printLinkedList(head2)\n",
        "\n",
        "head1 = insertAlternate(head1, head2)\n",
        "head2 = None\n",
        "\n",
        "print(\"First Linked List after operation:\")\n",
        "printLinkedList(head1)\n",
        "print(\"Second Linked List after operation:\")\n",
        "printLinkedList(head2)\n"
      ],
      "metadata": {
        "colab": {
          "base_uri": "https://localhost:8080/"
        },
        "id": "wM0gWfrM0YwL",
        "outputId": "4b1144ac-3d99-4f42-9917-ea65c3cc1524"
      },
      "execution_count": 21,
      "outputs": [
        {
          "output_type": "stream",
          "name": "stdout",
          "text": [
            "First Linked List before operation:\n",
            "5 7 17 13 11 \n",
            "Second Linked List before operation:\n",
            "12 10 2 4 6 \n",
            "First Linked List after operation:\n",
            "5 12 7 10 17 2 13 4 11 6 \n",
            "Second Linked List after operation:\n",
            "\n"
          ]
        }
      ]
    },
    {
      "cell_type": "markdown",
      "source": [
        "![image.png](data:image/png;base64,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)"
      ],
      "metadata": {
        "id": "VhDYs3jd1Mr2"
      }
    },
    {
      "cell_type": "code",
      "source": [
        "class Node:\n",
        "    def __init__(self, value):\n",
        "        self.data = value\n",
        "        self.next = None\n",
        "\n",
        "def isCircular(head):\n",
        "    if head is None:\n",
        "        return False\n",
        "\n",
        "    slow = head\n",
        "    fast = head.next\n",
        "\n",
        "    while fast and fast.next:\n",
        "        if slow == fast:\n",
        "            return True\n",
        "        slow = slow.next\n",
        "        fast = fast.next.next\n",
        "\n",
        "    return False\n",
        "\n"
      ],
      "metadata": {
        "colab": {
          "base_uri": "https://localhost:8080/"
        },
        "id": "otLMk2iY09ZL",
        "outputId": "be5afbdb-5e4d-4818-a97f-d40e5dc2c3e2"
      },
      "execution_count": 22,
      "outputs": [
        {
          "output_type": "stream",
          "name": "stdout",
          "text": [
            "True\n"
          ]
        }
      ]
    },
    {
      "cell_type": "code",
      "source": [
        "# Example usage\n",
        "values = [1, 2, 3, 4, 5]\n",
        "head = Node(values[0])\n",
        "curr = head\n",
        "for i in range(1, len(values)):\n",
        "    new_node = Node(values[i])\n",
        "    curr.next = new_node\n",
        "    curr = new_node\n",
        "\n",
        "# Create a circular linked list by connecting the last node to the head\n",
        "curr.next = head\n",
        "\n",
        "result = isCircular(head)\n",
        "print(result)\n"
      ],
      "metadata": {
        "colab": {
          "base_uri": "https://localhost:8080/"
        },
        "id": "tP8Z-FGD1ght",
        "outputId": "64de6104-307f-426a-b8d8-50a5f8393e0f"
      },
      "execution_count": 23,
      "outputs": [
        {
          "output_type": "stream",
          "name": "stdout",
          "text": [
            "True\n"
          ]
        }
      ]
    }
  ]
}