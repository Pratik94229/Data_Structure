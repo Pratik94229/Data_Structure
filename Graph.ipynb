{
  "nbformat": 4,
  "nbformat_minor": 0,
  "metadata": {
    "colab": {
      "provenance": [],
      "authorship_tag": "ABX9TyMqux04mrDVlVoyw+bp72u2",
      "include_colab_link": true
    },
    "kernelspec": {
      "name": "python3",
      "display_name": "Python 3"
    },
    "language_info": {
      "name": "python"
    }
  },
  "cells": [
    {
      "cell_type": "markdown",
      "metadata": {
        "id": "view-in-github",
        "colab_type": "text"
      },
      "source": [
        "<a href=\"https://colab.research.google.com/github/Pratik94229/Data_Structures/blob/main/Graph.ipynb\" target=\"_parent\"><img src=\"https://colab.research.google.com/assets/colab-badge.svg\" alt=\"Open In Colab\"/></a>"
      ]
    },
    {
      "cell_type": "code",
      "execution_count": 1,
      "metadata": {
        "id": "58sF7qX0OxVi"
      },
      "outputs": [],
      "source": [
        "#creating constructor ,add_vertex,print_graph method\n",
        "class Graph:\n",
        "    def __init__(self):\n",
        "        self.adj_list = {}\n",
        "\n",
        "    def print_graph(self):\n",
        "        for vertex in self.adj_list:\n",
        "            print(vertex, ':', self.adj_list[vertex])\n",
        "\n",
        "    def add_vertex(self, vertex):\n",
        "        if vertex not in self.adj_list.keys():\n",
        "            self.adj_list[vertex] = []\n",
        "            return True\n",
        "        return False\n"
      ]
    },
    {
      "cell_type": "code",
      "source": [
        "my_graph = Graph()\n",
        "\n",
        "my_graph.add_vertex('A')\n",
        "\n",
        "my_graph.print_graph()"
      ],
      "metadata": {
        "colab": {
          "base_uri": "https://localhost:8080/"
        },
        "id": "x_eKtw_NQG0R",
        "outputId": "ba4e3f01-7a49-44b1-f463-adea36f98924"
      },
      "execution_count": 2,
      "outputs": [
        {
          "output_type": "stream",
          "name": "stdout",
          "text": [
            "A : []\n"
          ]
        }
      ]
    },
    {
      "cell_type": "code",
      "source": [
        "#creating add_edge method\n",
        "class Graph:\n",
        "    def __init__(self):\n",
        "        self.adj_list = {}\n",
        "\n",
        "    def print_graph(self):\n",
        "        for vertex in self.adj_list:\n",
        "            print(vertex, ':', self.adj_list[vertex])\n",
        "\n",
        "    def add_vertex(self, vertex):\n",
        "        if vertex not in self.adj_list.keys():\n",
        "            self.adj_list[vertex] = []\n",
        "            return True\n",
        "        return False\n",
        "\n",
        "    def add_edge(self, v1, v2):\n",
        "        if v1 in self.adj_list.keys() and v2 in self.adj_list.keys():\n",
        "            self.adj_list[v1].append(v2)\n",
        "            self.adj_list[v2].append(v1)\n",
        "            return True\n",
        "        return False\n",
        "\n"
      ],
      "metadata": {
        "id": "q0-YjLq-O6Mn"
      },
      "execution_count": 3,
      "outputs": []
    },
    {
      "cell_type": "code",
      "source": [
        "my_graph = Graph()\n",
        "\n",
        "my_graph.add_vertex(1)\n",
        "my_graph.add_vertex(2)\n",
        "my_graph.print_graph()\n"
      ],
      "metadata": {
        "colab": {
          "base_uri": "https://localhost:8080/"
        },
        "id": "SP2k_Np3QLUC",
        "outputId": "87ec13d8-0195-4170-cbf3-9ba77afb461e"
      },
      "execution_count": 4,
      "outputs": [
        {
          "output_type": "stream",
          "name": "stdout",
          "text": [
            "1 : []\n",
            "2 : []\n"
          ]
        }
      ]
    },
    {
      "cell_type": "code",
      "source": [
        "my_graph.add_edge(1,2)\n",
        "\n",
        "my_graph.print_graph()"
      ],
      "metadata": {
        "colab": {
          "base_uri": "https://localhost:8080/"
        },
        "id": "g5wGqX6kQPJp",
        "outputId": "43a853e4-402d-4bfd-a169-fc2003c91de3"
      },
      "execution_count": 5,
      "outputs": [
        {
          "output_type": "stream",
          "name": "stdout",
          "text": [
            "1 : [2]\n",
            "2 : [1]\n"
          ]
        }
      ]
    },
    {
      "cell_type": "code",
      "source": [
        "#method to remove edge from the graph\n",
        "class Graph:\n",
        "    def __init__(self):\n",
        "        self.adj_list = {}\n",
        "\n",
        "    def print_graph(self):\n",
        "        for vertex in self.adj_list:\n",
        "            print(vertex, ':', self.adj_list[vertex])\n",
        "\n",
        "    def add_vertex(self, vertex):\n",
        "        if vertex not in self.adj_list.keys():\n",
        "            self.adj_list[vertex] = []\n",
        "            return True\n",
        "        return False\n",
        "\n",
        "    def add_edge(self, v1, v2):\n",
        "        if v1 in self.adj_list.keys() and v2 in self.adj_list.keys():\n",
        "            self.adj_list[v1].append(v2)\n",
        "            self.adj_list[v2].append(v1)\n",
        "            return True\n",
        "        return False\n",
        "\n",
        "    def remove_edge(self, v1, v2):\n",
        "        if v1 in self.adj_list.keys() and v2 in self.adj_list.keys():\n",
        "            self.adj_list[v1].remove(v2)\n",
        "            self.adj_list[v2].remove(v1)\n",
        "            return True\n",
        "        return False\n",
        "\n"
      ],
      "metadata": {
        "id": "fzu9kzSpO6RC"
      },
      "execution_count": 6,
      "outputs": []
    },
    {
      "cell_type": "code",
      "source": [
        "my_graph = Graph()\n",
        "my_graph.add_vertex('A')\n",
        "my_graph.add_vertex('B')\n",
        "my_graph.add_vertex('C')\n",
        "my_graph.print_graph()"
      ],
      "metadata": {
        "colab": {
          "base_uri": "https://localhost:8080/"
        },
        "id": "wIwopjrNRrmg",
        "outputId": "7be40d47-0732-4410-9a60-0df5e6bb359d"
      },
      "execution_count": 7,
      "outputs": [
        {
          "output_type": "stream",
          "name": "stdout",
          "text": [
            "A : []\n",
            "B : []\n",
            "C : []\n"
          ]
        }
      ]
    },
    {
      "cell_type": "code",
      "source": [
        "my_graph.add_edge('A','B')\n",
        "my_graph.add_edge('B','C')\n",
        "my_graph.add_edge('C','A')\n",
        "my_graph.print_graph()"
      ],
      "metadata": {
        "colab": {
          "base_uri": "https://localhost:8080/"
        },
        "id": "WYl7xvQFRruZ",
        "outputId": "9cdb8dc4-26c2-4c94-c99f-80b6d69d2315"
      },
      "execution_count": 8,
      "outputs": [
        {
          "output_type": "stream",
          "name": "stdout",
          "text": [
            "A : ['B', 'C']\n",
            "B : ['A', 'C']\n",
            "C : ['B', 'A']\n"
          ]
        }
      ]
    },
    {
      "cell_type": "code",
      "source": [
        "my_graph.remove_edge('A','B')\n",
        "\n",
        "my_graph.print_graph()"
      ],
      "metadata": {
        "colab": {
          "base_uri": "https://localhost:8080/"
        },
        "id": "jONG-U-QR8Xu",
        "outputId": "83b26d31-037c-454d-9356-b74fc46df0e1"
      },
      "execution_count": 9,
      "outputs": [
        {
          "output_type": "stream",
          "name": "stdout",
          "text": [
            "A : ['C']\n",
            "B : ['C']\n",
            "C : ['B', 'A']\n"
          ]
        }
      ]
    },
    {
      "cell_type": "code",
      "source": [
        "#method to remove vertex from the graph\n",
        "class Graph:\n",
        "    def __init__(self):\n",
        "        self.adj_list = {}\n",
        "\n",
        "    def print_graph(self):\n",
        "        for vertex in self.adj_list:\n",
        "            print(vertex, ':', self.adj_list[vertex])\n",
        "\n",
        "    def add_vertex(self, vertex):\n",
        "        if vertex not in self.adj_list.keys():\n",
        "            self.adj_list[vertex] = []\n",
        "            return True\n",
        "        return False\n",
        "\n",
        "    def add_edge(self, v1, v2):\n",
        "        if v1 in self.adj_list.keys() and v2 in self.adj_list.keys():\n",
        "            self.adj_list[v1].append(v2)\n",
        "            self.adj_list[v2].append(v1)\n",
        "            return True\n",
        "        return False\n",
        "\n",
        "    def remove_edge(self, v1, v2):\n",
        "        if v1 in self.adj_list.keys() and v2 in self.adj_list.keys():\n",
        "            self.adj_list[v1].remove(v2)\n",
        "            self.adj_list[v2].remove(v1)\n",
        "            return True\n",
        "        return False\n",
        "\n",
        "    def remove_vertex(self, vertex):\n",
        "        if vertex in self.adj_list.keys():\n",
        "            for other_vertex in self.adj_list[vertex]:\n",
        "                self.adj_list[other_vertex].remove(vertex)\n",
        "            del self.adj_list[vertex]\n",
        "            return True\n",
        "        return False"
      ],
      "metadata": {
        "id": "Q2WnrXRSO6T_"
      },
      "execution_count": 14,
      "outputs": []
    },
    {
      "cell_type": "code",
      "source": [
        "my_graph = Graph()\n",
        "my_graph.add_vertex('A')\n",
        "my_graph.add_vertex('B')\n",
        "my_graph.add_vertex('C')\n",
        "my_graph.add_vertex('D')\n",
        "my_graph.print_graph()"
      ],
      "metadata": {
        "colab": {
          "base_uri": "https://localhost:8080/"
        },
        "id": "JGksPekBO6Xc",
        "outputId": "68963706-5ccb-4f7e-86ff-3b32b1982d31"
      },
      "execution_count": 15,
      "outputs": [
        {
          "output_type": "stream",
          "name": "stdout",
          "text": [
            "A : []\n",
            "B : []\n",
            "C : []\n",
            "D : []\n"
          ]
        }
      ]
    },
    {
      "cell_type": "code",
      "source": [
        "my_graph.add_edge('A','B')\n",
        "my_graph.add_edge('A','C')\n",
        "my_graph.add_edge('A','D')\n",
        "my_graph.add_edge('B','D')\n",
        "my_graph.add_edge('C','D')\n",
        "my_graph.print_graph()"
      ],
      "metadata": {
        "colab": {
          "base_uri": "https://localhost:8080/"
        },
        "id": "NPVIQKO2O6cl",
        "outputId": "2142ee0b-9d1b-40d2-b79d-7f458fdafc63"
      },
      "execution_count": 16,
      "outputs": [
        {
          "output_type": "stream",
          "name": "stdout",
          "text": [
            "A : ['B', 'C', 'D']\n",
            "B : ['A', 'D']\n",
            "C : ['A', 'D']\n",
            "D : ['A', 'B', 'C']\n"
          ]
        }
      ]
    },
    {
      "cell_type": "code",
      "source": [
        "my_graph.remove_vertex('D')\n",
        "my_graph.print_graph()"
      ],
      "metadata": {
        "colab": {
          "base_uri": "https://localhost:8080/"
        },
        "id": "kluP5MK9Tsyq",
        "outputId": "65e2bd5e-28b8-4fe4-e068-137820238bb5"
      },
      "execution_count": 17,
      "outputs": [
        {
          "output_type": "stream",
          "name": "stdout",
          "text": [
            "A : ['B', 'C']\n",
            "B : ['A']\n",
            "C : ['A']\n"
          ]
        }
      ]
    }
  ]
}