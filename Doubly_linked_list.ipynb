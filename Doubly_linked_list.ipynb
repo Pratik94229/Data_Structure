{
  "nbformat": 4,
  "nbformat_minor": 0,
  "metadata": {
    "colab": {
      "provenance": [],
      "authorship_tag": "ABX9TyN9/in8tF040qKgOgk+RlO4",
      "include_colab_link": true
    },
    "kernelspec": {
      "name": "python3",
      "display_name": "Python 3"
    },
    "language_info": {
      "name": "python"
    }
  },
  "cells": [
    {
      "cell_type": "markdown",
      "metadata": {
        "id": "view-in-github",
        "colab_type": "text"
      },
      "source": [
        "<a href=\"https://colab.research.google.com/github/Pratik94229/Data_Structures/blob/main/Doubly_linked_list.ipynb\" target=\"_parent\"><img src=\"https://colab.research.google.com/assets/colab-badge.svg\" alt=\"Open In Colab\"/></a>"
      ]
    },
    {
      "cell_type": "code",
      "execution_count": 8,
      "metadata": {
        "id": "Rmg2805flAwB"
      },
      "outputs": [],
      "source": [
        "#creating new node\n",
        "class Node:\n",
        "    def __init__(self, value):\n",
        "        self.value = value\n",
        "        self.next = None\n",
        "        self.prev = None\n",
        "\n",
        "\n",
        "class DoublyLinkedList:\n",
        "    def __init__(self, value):\n",
        "        new_node = Node(value)\n",
        "        self.head = new_node\n",
        "        self.tail = new_node\n",
        "        self.length = 1\n",
        "\n",
        "#method for printing created linked pist\n",
        "    def print_list(self):\n",
        "        temp = self.head\n",
        "        while temp is not None:\n",
        "            print(temp.value)\n",
        "            temp = temp.next\n"
      ]
    },
    {
      "cell_type": "code",
      "source": [
        "my_doubly_linked_list = DoublyLinkedList(7)\n",
        "my_doubly_linked_list.print_list()"
      ],
      "metadata": {
        "colab": {
          "base_uri": "https://localhost:8080/"
        },
        "id": "i0xFxZzN2_Il",
        "outputId": "d9f3d407-1b5f-46ca-a555-d3fa7dc330ba"
      },
      "execution_count": 9,
      "outputs": [
        {
          "output_type": "stream",
          "name": "stdout",
          "text": [
            "7\n"
          ]
        }
      ]
    },
    {
      "cell_type": "code",
      "source": [
        "#creating method to append element\n",
        "class Node:\n",
        "    def __init__(self, value):\n",
        "        self.value = value\n",
        "        self.next = None\n",
        "        self.prev = None\n",
        "\n",
        "\n",
        "class DoublyLinkedList:\n",
        "    def __init__(self, value):\n",
        "        new_node = Node(value)\n",
        "        self.head = new_node\n",
        "        self.tail = new_node\n",
        "        self.length = 1\n",
        "\n",
        "    def print_list(self):\n",
        "        temp = self.head\n",
        "        while temp is not None:\n",
        "            print(temp.value)\n",
        "            temp = temp.next\n",
        "\n",
        "    def append(self, value):\n",
        "        new_node = Node(value)\n",
        "        #if linked list is empty\n",
        "        if self.head is None:\n",
        "            self.head = new_node\n",
        "            self.tail = new_node\n",
        "        else:\n",
        "            self.tail.next = new_node\n",
        "            new_node.prev = self.tail\n",
        "            self.tail = new_node\n",
        "        self.length += 1\n",
        "        return True\n",
        "\n",
        "\n"
      ],
      "metadata": {
        "id": "AZ9kJ1HsmCAg"
      },
      "execution_count": 10,
      "outputs": []
    },
    {
      "cell_type": "code",
      "source": [
        "my_doubly_linked_list = DoublyLinkedList(1)\n",
        "my_doubly_linked_list.append(2)\n",
        "my_doubly_linked_list.print_list()"
      ],
      "metadata": {
        "colab": {
          "base_uri": "https://localhost:8080/"
        },
        "id": "1TukgW2h3Fmb",
        "outputId": "c854720c-cca2-48ff-99b7-763dd3768b3c"
      },
      "execution_count": 11,
      "outputs": [
        {
          "output_type": "stream",
          "name": "stdout",
          "text": [
            "1\n",
            "2\n"
          ]
        }
      ]
    },
    {
      "cell_type": "code",
      "source": [
        "#creating method to pop element\n",
        "class Node:\n",
        "    def __init__(self, value):\n",
        "        self.value = value\n",
        "        self.next = None\n",
        "        self.prev = None\n",
        "\n",
        "\n",
        "class DoublyLinkedList:\n",
        "    def __init__(self, value):\n",
        "        new_node = Node(value)\n",
        "        self.head = new_node\n",
        "        self.tail = new_node\n",
        "        self.length = 1\n",
        "\n",
        "    def print_list(self):\n",
        "        temp = self.head\n",
        "        while temp is not None:\n",
        "            print(temp.value)\n",
        "            temp = temp.next\n",
        "\n",
        "    def append(self, value):\n",
        "        new_node = Node(value)\n",
        "        if self.head is None:\n",
        "            self.head = new_node\n",
        "            self.tail = new_node\n",
        "        else:\n",
        "            self.tail.next = new_node\n",
        "            new_node.prev = self.tail\n",
        "            self.tail = new_node\n",
        "        self.length += 1\n",
        "        return True\n",
        "\n",
        "    def pop(self):\n",
        "      #if list is empty\n",
        "        if self.length == 0:\n",
        "            return None\n",
        "        temp = self.tail\n",
        "        #if list contains only one element\n",
        "        if self.length == 1:\n",
        "            self.head = None\n",
        "            self.tail = None\n",
        "        else:\n",
        "            self.tail = self.tail.prev\n",
        "            self.tail.next = None\n",
        "            temp.prev = None\n",
        "        self.length -= 1\n",
        "        return temp.value\n",
        "\n",
        "\n"
      ],
      "metadata": {
        "id": "hLlqFDVCmNg7"
      },
      "execution_count": 12,
      "outputs": []
    },
    {
      "cell_type": "code",
      "source": [
        "my_doubly_linked_list = DoublyLinkedList(1)\n",
        "my_doubly_linked_list.append(2)\n",
        "my_doubly_linked_list.print_list()"
      ],
      "metadata": {
        "colab": {
          "base_uri": "https://localhost:8080/"
        },
        "id": "uyfHcbzX3Kgl",
        "outputId": "70dcfc38-d669-4f2a-b7a1-e828fe574c57"
      },
      "execution_count": 16,
      "outputs": [
        {
          "output_type": "stream",
          "name": "stdout",
          "text": [
            "1\n",
            "2\n"
          ]
        }
      ]
    },
    {
      "cell_type": "code",
      "source": [
        "# (2) Items - Returns 2 Node\n",
        "print(my_doubly_linked_list.pop())\n",
        "# (1) Item -  Returns 1 Node\n",
        "print(my_doubly_linked_list.pop())\n",
        "# (0) Items - Returns None\n",
        "print(my_doubly_linked_list.pop())"
      ],
      "metadata": {
        "colab": {
          "base_uri": "https://localhost:8080/"
        },
        "id": "_L-eJJku3K1Q",
        "outputId": "0d950ac6-c97c-45a0-80c3-6b50487cc20e"
      },
      "execution_count": 17,
      "outputs": [
        {
          "output_type": "stream",
          "name": "stdout",
          "text": [
            "2\n",
            "1\n",
            "None\n"
          ]
        }
      ]
    },
    {
      "cell_type": "code",
      "source": [
        "#creating method to prepend element\n",
        "class Node:\n",
        "    def __init__(self, value):\n",
        "        self.value = value\n",
        "        self.next = None\n",
        "        self.prev = None\n",
        "\n",
        "\n",
        "class DoublyLinkedList:\n",
        "    def __init__(self, value):\n",
        "        new_node = Node(value)\n",
        "        self.head = new_node\n",
        "        self.tail = new_node\n",
        "        self.length = 1\n",
        "\n",
        "    def print_list(self):\n",
        "        temp = self.head\n",
        "        while temp is not None:\n",
        "            print(temp.value)\n",
        "            temp = temp.next\n",
        "\n",
        "    def append(self, value):\n",
        "        new_node = Node(value)\n",
        "        if self.head is None:\n",
        "            self.head = new_node\n",
        "            self.tail = new_node\n",
        "        else:\n",
        "            self.tail.next = new_node\n",
        "            new_node.prev = self.tail\n",
        "            self.tail = new_node\n",
        "        self.length += 1\n",
        "        return True\n",
        "\n",
        "\n",
        "\n",
        "    def prepend(self, value):\n",
        "        new_node = Node(value)\n",
        "        #if list is empty\n",
        "        if self.length == 0:\n",
        "            self.head = new_node\n",
        "            self.tail = new_node\n",
        "        else:\n",
        "            new_node.next = self.head\n",
        "            self.head.prev = new_node\n",
        "            self.head = new_node\n",
        "        self.length += 1\n",
        "        return True"
      ],
      "metadata": {
        "id": "iGolOvHwmNkO"
      },
      "execution_count": 28,
      "outputs": []
    },
    {
      "cell_type": "code",
      "source": [
        "my_doubly_linked_list = DoublyLinkedList(2)\n",
        "my_doubly_linked_list.append(3)\n",
        "my_doubly_linked_list.print_list()"
      ],
      "metadata": {
        "colab": {
          "base_uri": "https://localhost:8080/"
        },
        "id": "GwnBXCal24s1",
        "outputId": "8ff5b11c-9361-407c-81a5-b0849b57a9a3"
      },
      "execution_count": 29,
      "outputs": [
        {
          "output_type": "stream",
          "name": "stdout",
          "text": [
            "2\n",
            "3\n"
          ]
        }
      ]
    },
    {
      "cell_type": "code",
      "source": [
        "my_doubly_linked_list.prepend(1)\n",
        "my_doubly_linked_list.prepend(9)\n",
        "my_doubly_linked_list.print_list()"
      ],
      "metadata": {
        "colab": {
          "base_uri": "https://localhost:8080/"
        },
        "id": "U9iDz6FM2wv2",
        "outputId": "5f997e31-b35a-4574-8bf8-01bd741b55b4"
      },
      "execution_count": 30,
      "outputs": [
        {
          "output_type": "stream",
          "name": "stdout",
          "text": [
            "9\n",
            "1\n",
            "2\n",
            "3\n"
          ]
        }
      ]
    },
    {
      "cell_type": "code",
      "source": [
        "#method to pop first element\n",
        "class Node:\n",
        "    def __init__(self, value):\n",
        "        self.value = value\n",
        "        self.next = None\n",
        "        self.prev = None\n",
        "\n",
        "\n",
        "class DoublyLinkedList:\n",
        "    def __init__(self, value):\n",
        "        new_node = Node(value)\n",
        "        self.head = new_node\n",
        "        self.tail = new_node\n",
        "        self.length = 1\n",
        "\n",
        "    def print_list(self):\n",
        "        temp = self.head\n",
        "        while temp is not None:\n",
        "            print(temp.value)\n",
        "            temp = temp.next\n",
        "\n",
        "    def append(self, value):\n",
        "        new_node = Node(value)\n",
        "        if self.head is None:\n",
        "            self.head = new_node\n",
        "            self.tail = new_node\n",
        "        else:\n",
        "            self.tail.next = new_node\n",
        "            new_node.prev = self.tail\n",
        "            self.tail = new_node\n",
        "        self.length += 1\n",
        "        return True\n",
        "\n",
        "    def pop_first(self):\n",
        "        if self.length == 0:\n",
        "            return None\n",
        "        temp = self.head\n",
        "        if self.length == 1:\n",
        "            self.head = None\n",
        "            self.tail = None\n",
        "        else:\n",
        "            self.head = self.head.next\n",
        "            self.head.prev = None\n",
        "            temp.next = None\n",
        "        self.length -= 1\n",
        "        return temp.value\n",
        "\n"
      ],
      "metadata": {
        "id": "Cl-fBq1hmNnH"
      },
      "execution_count": 31,
      "outputs": []
    },
    {
      "cell_type": "code",
      "source": [
        "my_doubly_linked_list = DoublyLinkedList(2)\n",
        "my_doubly_linked_list.append(1)\n",
        "my_doubly_linked_list.print_list()"
      ],
      "metadata": {
        "colab": {
          "base_uri": "https://localhost:8080/"
        },
        "id": "I9D2LdkP5c-n",
        "outputId": "bd102936-9f8c-486f-f694-4abef875fdf7"
      },
      "execution_count": 32,
      "outputs": [
        {
          "output_type": "stream",
          "name": "stdout",
          "text": [
            "2\n",
            "1\n"
          ]
        }
      ]
    },
    {
      "cell_type": "code",
      "source": [
        "# (2) Items - Returns 2 Node\n",
        "print(my_doubly_linked_list.pop_first())\n",
        "# (1) Item -  Returns 1 Node\n",
        "print(my_doubly_linked_list.pop_first())\n",
        "# (0) Items - Returns None\n",
        "print(my_doubly_linked_list.pop_first())"
      ],
      "metadata": {
        "colab": {
          "base_uri": "https://localhost:8080/"
        },
        "id": "V6VfuEm25abR",
        "outputId": "cc8220ec-9e45-45d2-a479-a99e386a8218"
      },
      "execution_count": 33,
      "outputs": [
        {
          "output_type": "stream",
          "name": "stdout",
          "text": [
            "2\n",
            "1\n",
            "None\n"
          ]
        }
      ]
    },
    {
      "cell_type": "code",
      "source": [
        "#creating get method to get item at particular index\n",
        "class Node:\n",
        "    def __init__(self, value):\n",
        "        self.value = value\n",
        "        self.next = None\n",
        "        self.prev = None\n",
        "\n",
        "\n",
        "class DoublyLinkedList:\n",
        "    def __init__(self, value):\n",
        "        new_node = Node(value)\n",
        "        self.head = new_node\n",
        "        self.tail = new_node\n",
        "        self.length = 1\n",
        "\n",
        "    def print_list(self):\n",
        "        temp = self.head\n",
        "        while temp is not None:\n",
        "            print(temp.value)\n",
        "            temp = temp.next\n",
        "\n",
        "    def append(self, value):\n",
        "        new_node = Node(value)\n",
        "        if self.head is None:\n",
        "            self.head = new_node\n",
        "            self.tail = new_node\n",
        "        else:\n",
        "            self.tail.next = new_node\n",
        "            new_node.prev = self.tail\n",
        "            self.tail = new_node\n",
        "        self.length += 1\n",
        "        return True\n",
        "\n",
        "    def get(self, index):\n",
        "        if index < 0 or index >= self.length:\n",
        "            return None\n",
        "        temp = self.head\n",
        "        #if index lies in 1st half\n",
        "        if index < self.length/2:\n",
        "            for _ in range(index):\n",
        "                temp = temp.next\n",
        "        else:\n",
        "            temp = self.tail\n",
        "            for _ in range(self.length - 1, index, -1):\n",
        "                temp = temp.prev\n",
        "        return temp.value\n",
        "\n"
      ],
      "metadata": {
        "id": "ZHFEBGBImNp3"
      },
      "execution_count": 41,
      "outputs": []
    },
    {
      "cell_type": "code",
      "source": [
        "my_doubly_linked_list = DoublyLinkedList(0)\n",
        "my_doubly_linked_list.append(1)\n",
        "my_doubly_linked_list.append(2)\n",
        "my_doubly_linked_list.append(3)\n",
        "my_doubly_linked_list.print_list()"
      ],
      "metadata": {
        "colab": {
          "base_uri": "https://localhost:8080/"
        },
        "id": "bFksTbJx7CZc",
        "outputId": "abe6b424-0d1d-4629-fd46-2e0462aa2b4c"
      },
      "execution_count": 42,
      "outputs": [
        {
          "output_type": "stream",
          "name": "stdout",
          "text": [
            "0\n",
            "1\n",
            "2\n",
            "3\n"
          ]
        }
      ]
    },
    {
      "cell_type": "code",
      "source": [
        "print(my_doubly_linked_list.get(1))\n",
        "print(my_doubly_linked_list.get(2))"
      ],
      "metadata": {
        "colab": {
          "base_uri": "https://localhost:8080/"
        },
        "id": "ynUyOUxU7Ct0",
        "outputId": "f3a44935-5b7d-46de-bef2-998a938c2f3a"
      },
      "execution_count": 43,
      "outputs": [
        {
          "output_type": "stream",
          "name": "stdout",
          "text": [
            "1\n",
            "2\n"
          ]
        }
      ]
    },
    {
      "cell_type": "code",
      "source": [
        "class Node:\n",
        "    def __init__(self, value):\n",
        "        self.value = value\n",
        "        self.next = None\n",
        "        self.prev = None\n",
        "\n",
        "\n",
        "class DoublyLinkedList:\n",
        "    def __init__(self, value):\n",
        "        new_node = Node(value)\n",
        "        self.head = new_node\n",
        "        self.tail = new_node\n",
        "        self.length = 1\n",
        "\n",
        "    def print_list(self):\n",
        "        temp = self.head\n",
        "        while temp is not None:\n",
        "            print(temp.value)\n",
        "            temp = temp.next\n",
        "\n",
        "    def append(self, value):\n",
        "        new_node = Node(value)\n",
        "        if self.head is None:\n",
        "            self.head = new_node\n",
        "            self.tail = new_node\n",
        "        else:\n",
        "            self.tail.next = new_node\n",
        "            new_node.prev = self.tail\n",
        "            self.tail = new_node\n",
        "        self.length += 1\n",
        "        return True\n",
        "\n",
        "\n",
        "\n",
        "\n",
        "\n",
        "\n",
        "\n",
        "    def get(self, index):\n",
        "        if index < 0 or index >= self.length:\n",
        "            return None\n",
        "        temp = self.head\n",
        "        if index < self.length/2:\n",
        "            for _ in range(index):\n",
        "                temp = temp.next\n",
        "        else:\n",
        "            temp = self.tail\n",
        "            for _ in range(self.length - 1, index, -1):\n",
        "                temp = temp.prev\n",
        "        return temp\n",
        "\n",
        "    def set_value(self, index, value):\n",
        "        temp = self.get(index)\n",
        "        if temp:\n",
        "            temp.value = value\n",
        "            return True\n",
        "        return False\n",
        "\n",
        "\n",
        "\n",
        "\n"
      ],
      "metadata": {
        "id": "aKWknqz9mNsu"
      },
      "execution_count": 56,
      "outputs": []
    },
    {
      "cell_type": "code",
      "source": [
        "my_doubly_linked_list = DoublyLinkedList(11)\n",
        "my_doubly_linked_list.append(3)\n",
        "my_doubly_linked_list.append(23)\n",
        "my_doubly_linked_list.append(7)\n",
        "my_doubly_linked_list.print_list()"
      ],
      "metadata": {
        "colab": {
          "base_uri": "https://localhost:8080/"
        },
        "id": "PdDRM9jYEOuP",
        "outputId": "85dd89ba-1b5d-4490-c9e9-cf6fdada3a4e"
      },
      "execution_count": 57,
      "outputs": [
        {
          "output_type": "stream",
          "name": "stdout",
          "text": [
            "11\n",
            "3\n",
            "23\n",
            "7\n"
          ]
        }
      ]
    },
    {
      "cell_type": "code",
      "source": [
        "my_doubly_linked_list.set_value(1,4)\n",
        "my_doubly_linked_list.print_list()"
      ],
      "metadata": {
        "colab": {
          "base_uri": "https://localhost:8080/"
        },
        "id": "ExXvHvPmEWHj",
        "outputId": "3283f35d-8571-4a61-8789-09a6e45ef7c4"
      },
      "execution_count": 58,
      "outputs": [
        {
          "output_type": "stream",
          "name": "stdout",
          "text": [
            "11\n",
            "4\n",
            "23\n",
            "7\n"
          ]
        }
      ]
    },
    {
      "cell_type": "code",
      "source": [
        "#method to insert element at particular index in linked list\n",
        "class Node:\n",
        "    def __init__(self, value):\n",
        "        self.value = value\n",
        "        self.next = None\n",
        "        self.prev = None\n",
        "\n",
        "\n",
        "class DoublyLinkedList:\n",
        "    def __init__(self, value):\n",
        "        new_node = Node(value)\n",
        "        self.head = new_node\n",
        "        self.tail = new_node\n",
        "        self.length = 1\n",
        "\n",
        "    def print_list(self):\n",
        "        temp = self.head\n",
        "        while temp is not None:\n",
        "            print(temp.value)\n",
        "            temp = temp.next\n",
        "\n",
        "    def append(self, value):\n",
        "        new_node = Node(value)\n",
        "        if self.head is None:\n",
        "            self.head = new_node\n",
        "            self.tail = new_node\n",
        "        else:\n",
        "            self.tail.next = new_node\n",
        "            new_node.prev = self.tail\n",
        "            self.tail = new_node\n",
        "        self.length += 1\n",
        "        return True\n",
        "\n",
        "\n",
        "\n",
        "\n",
        "\n",
        "    def get(self, index):\n",
        "        if index < 0 or index >= self.length:\n",
        "            return None\n",
        "        temp = self.head\n",
        "        if index < self.length/2:\n",
        "            for _ in range(index):\n",
        "                temp = temp.next\n",
        "        else:\n",
        "            temp = self.tail\n",
        "            for _ in range(self.length - 1, index, -1):\n",
        "                temp = temp.prev\n",
        "        return temp\n",
        "\n",
        "    def set_value(self, index, value):\n",
        "        temp = self.get(index)\n",
        "        if temp:\n",
        "            temp.value = value\n",
        "            return True\n",
        "        return False\n",
        "\n",
        "    def insert(self, index, value):\n",
        "        if index < 0 or index > self.length:\n",
        "            return False\n",
        "        if index == 0:\n",
        "            return self.prepend(value)\n",
        "        if index == self.length:\n",
        "            return self.append(value)\n",
        "\n",
        "        new_node = Node(value)\n",
        "        before = self.get(index - 1)\n",
        "        after = before.next\n",
        "\n",
        "        new_node.prev = before\n",
        "        new_node.next = after\n",
        "        before.next = new_node\n",
        "        after.prev = new_node\n",
        "\n",
        "        self.length += 1\n",
        "        return True\n",
        "\n",
        "\n"
      ],
      "metadata": {
        "id": "GhqGHFAtmNu5"
      },
      "execution_count": 62,
      "outputs": []
    },
    {
      "cell_type": "code",
      "source": [
        "my_doubly_linked_list = DoublyLinkedList(1)\n",
        "my_doubly_linked_list.append(3)\n",
        "\n",
        "my_doubly_linked_list.print_list()"
      ],
      "metadata": {
        "colab": {
          "base_uri": "https://localhost:8080/"
        },
        "id": "Pm7mdEI2Ln1T",
        "outputId": "7deacf09-3ac2-469d-8eee-68195e0ecddc"
      },
      "execution_count": 63,
      "outputs": [
        {
          "output_type": "stream",
          "name": "stdout",
          "text": [
            "1\n",
            "3\n"
          ]
        }
      ]
    },
    {
      "cell_type": "code",
      "source": [
        "my_doubly_linked_list.insert(1,2)\n",
        "\n",
        "my_doubly_linked_list.print_list()"
      ],
      "metadata": {
        "colab": {
          "base_uri": "https://localhost:8080/"
        },
        "id": "YCL7rhHILsQh",
        "outputId": "7d2278a4-4236-4e87-acc4-cecdb0eba5ff"
      },
      "execution_count": 64,
      "outputs": [
        {
          "output_type": "stream",
          "name": "stdout",
          "text": [
            "1\n",
            "2\n",
            "3\n"
          ]
        }
      ]
    },
    {
      "cell_type": "code",
      "source": [
        "#creating method to remove element from linked list\n",
        "class Node:\n",
        "    def __init__(self, value):\n",
        "        self.value = value\n",
        "        self.next = None\n",
        "        self.prev = None\n",
        "\n",
        "\n",
        "class DoublyLinkedList:\n",
        "    def __init__(self, value):\n",
        "        new_node = Node(value)\n",
        "        self.head = new_node\n",
        "        self.tail = new_node\n",
        "        self.length = 1\n",
        "\n",
        "    def print_list(self):\n",
        "        temp = self.head\n",
        "        while temp is not None:\n",
        "            print(temp.value)\n",
        "            temp = temp.next\n",
        "\n",
        "    def append(self, value):\n",
        "        new_node = Node(value)\n",
        "        if self.head is None:\n",
        "            self.head = new_node\n",
        "            self.tail = new_node\n",
        "        else:\n",
        "            self.tail.next = new_node\n",
        "            new_node.prev = self.tail\n",
        "            self.tail = new_node\n",
        "        self.length += 1\n",
        "        return True\n",
        "\n",
        "    def pop(self):\n",
        "        if self.length == 0:\n",
        "            return None\n",
        "        temp = self.tail\n",
        "        if self.length == 1:\n",
        "            self.head = None\n",
        "            self.tail = None\n",
        "        else:\n",
        "            self.tail = self.tail.prev\n",
        "            self.tail.next = None\n",
        "            temp.prev = None\n",
        "        self.length -= 1\n",
        "        return temp\n",
        "\n",
        "\n",
        "\n",
        "    def pop_first(self):\n",
        "        if self.length == 0:\n",
        "            return None\n",
        "        temp = self.head\n",
        "        if self.length == 1:\n",
        "            self.head = None\n",
        "            self.tail = None\n",
        "        else:\n",
        "            self.head = self.head.next\n",
        "            self.head.prev = None\n",
        "            temp.next = None\n",
        "        self.length -= 1\n",
        "        return temp\n",
        "\n",
        "    def get(self, index):\n",
        "        if index < 0 or index >= self.length:\n",
        "            return None\n",
        "        temp = self.head\n",
        "        if index < self.length/2:\n",
        "            for _ in range(index):\n",
        "                temp = temp.next\n",
        "        else:\n",
        "            temp = self.tail\n",
        "            for _ in range(self.length - 1, index, -1):\n",
        "                temp = temp.prev\n",
        "        return temp\n",
        "\n",
        "\n",
        "\n",
        "\n",
        "\n",
        "    def remove(self, index):\n",
        "        if index < 0 or index >= self.length:\n",
        "            return None\n",
        "        if index == 0:\n",
        "            return self.pop_first()\n",
        "        if index == self.length - 1:\n",
        "            return self.pop()\n",
        "\n",
        "        temp = self.get(index)\n",
        "\n",
        "        temp.next.prev = temp.prev\n",
        "        temp.prev.next = temp.next\n",
        "        temp.next = None\n",
        "        temp.prev = None\n",
        "\n",
        "        self.length -= 1\n",
        "        return temp\n",
        "\n"
      ],
      "metadata": {
        "id": "8IpAohuJmNyP"
      },
      "execution_count": 69,
      "outputs": []
    },
    {
      "cell_type": "code",
      "source": [
        "my_doubly_linked_list = DoublyLinkedList(0)\n",
        "my_doubly_linked_list.append(1)\n",
        "my_doubly_linked_list.append(2)\n",
        "my_doubly_linked_list.print_list()"
      ],
      "metadata": {
        "colab": {
          "base_uri": "https://localhost:8080/"
        },
        "id": "8WInhfxGOb8E",
        "outputId": "9c118548-d30e-4f9b-aa55-7c9095c21c4d"
      },
      "execution_count": 67,
      "outputs": [
        {
          "output_type": "stream",
          "name": "stdout",
          "text": [
            "0\n",
            "1\n",
            "2\n"
          ]
        }
      ]
    },
    {
      "cell_type": "code",
      "source": [
        "print(my_doubly_linked_list.remove(1), '\\n')\n",
        "\n",
        "my_doubly_linked_list.print_list()"
      ],
      "metadata": {
        "colab": {
          "base_uri": "https://localhost:8080/"
        },
        "id": "DIYKXhZfOk1O",
        "outputId": "7fce205b-96ea-456f-c297-bc42f3f14a1c"
      },
      "execution_count": 68,
      "outputs": [
        {
          "output_type": "stream",
          "name": "stdout",
          "text": [
            "<__main__.Node object at 0x7fecb101b790> \n",
            "\n",
            "0\n",
            "2\n"
          ]
        }
      ]
    },
    {
      "cell_type": "code",
      "source": [
        "#combining all the code\n",
        "class Node:\n",
        "    def __init__(self, value):\n",
        "        self.value = value\n",
        "        self.next = None\n",
        "        self.prev = None\n",
        "\n",
        "\n",
        "class DoublyLinkedList:\n",
        "    def __init__(self, value):\n",
        "        new_node = Node(value)\n",
        "        self.head = new_node\n",
        "        self.tail = new_node\n",
        "        self.length = 1\n",
        "\n",
        "    def print_list(self):\n",
        "        temp = self.head\n",
        "        while temp is not None:\n",
        "            print(temp.value)\n",
        "            temp = temp.next\n",
        "\n",
        "    def append(self, value):\n",
        "        new_node = Node(value)\n",
        "        if self.head is None:\n",
        "            self.head = new_node\n",
        "            self.tail = new_node\n",
        "        else:\n",
        "            self.tail.next = new_node\n",
        "            new_node.prev = self.tail\n",
        "            self.tail = new_node\n",
        "        self.length += 1\n",
        "        return True\n",
        "\n",
        "    def pop(self):\n",
        "        if self.length == 0:\n",
        "            return None\n",
        "        temp = self.tail\n",
        "        if self.length == 1:\n",
        "            self.head = None\n",
        "            self.tail = None\n",
        "        else:\n",
        "            self.tail = self.tail.prev\n",
        "            self.tail.next = None\n",
        "            temp.prev = None\n",
        "        self.length -= 1\n",
        "        return temp\n",
        "\n",
        "    def prepend(self, value):\n",
        "        new_node = Node(value)\n",
        "        if self.length == 0:\n",
        "            self.head = new_node\n",
        "            self.tail = new_node\n",
        "        else:\n",
        "            new_node.next = self.head\n",
        "            self.head.prev = new_node\n",
        "            self.head = new_node\n",
        "        self.length += 1\n",
        "        return True\n",
        "\n",
        "    def pop_first(self):\n",
        "        if self.length == 0:\n",
        "            return None\n",
        "        temp = self.head\n",
        "        if self.length == 1:\n",
        "            self.head = None\n",
        "            self.tail = None\n",
        "        else:\n",
        "            self.head = self.head.next\n",
        "            self.head.prev = None\n",
        "            temp.next = None\n",
        "        self.length -= 1\n",
        "        return temp\n",
        "\n",
        "    def get(self, index):\n",
        "        if index < 0 or index >= self.length:\n",
        "            return None\n",
        "        temp = self.head\n",
        "        if index < self.length/2:\n",
        "            for _ in range(index):\n",
        "                temp = temp.next\n",
        "        else:\n",
        "            temp = self.tail\n",
        "            for _ in range(self.length - 1, index, -1):\n",
        "                temp = temp.prev\n",
        "        return temp\n",
        "\n",
        "    def set_value(self, index, value):\n",
        "        temp = self.get(index)\n",
        "        if temp:\n",
        "            temp.value = value\n",
        "            return True\n",
        "        return False\n",
        "\n",
        "    def insert(self, index, value):\n",
        "        if index < 0 or index > self.length:\n",
        "            return False\n",
        "        if index == 0:\n",
        "            return self.prepend(value)\n",
        "        if index == self.length:\n",
        "            return self.append(value)\n",
        "\n",
        "        new_node = Node(value)\n",
        "        before = self.get(index - 1)\n",
        "        after = before.next\n",
        "\n",
        "        new_node.prev = before\n",
        "        new_node.next = after\n",
        "        before.next = new_node\n",
        "        after.prev = new_node\n",
        "\n",
        "        self.length += 1\n",
        "        return True\n",
        "\n",
        "    def remove(self, index):\n",
        "        if index < 0 or index >= self.length:\n",
        "            return None\n",
        "        if index == 0:\n",
        "            return self.pop_first()\n",
        "        if index == self.length - 1:\n",
        "            return self.pop()\n",
        "\n",
        "        temp = self.get(index)\n",
        "\n",
        "        temp.next.prev = temp.prev\n",
        "        temp.prev.next = temp.next\n",
        "        temp.next = None\n",
        "        temp.prev = None\n",
        "\n",
        "        self.length -= 1\n",
        "        return temp\n",
        "\n"
      ],
      "metadata": {
        "id": "T7FnhYqEOAx4"
      },
      "execution_count": 71,
      "outputs": []
    }
  ]
}