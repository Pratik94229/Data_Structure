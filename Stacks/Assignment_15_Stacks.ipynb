{
  "cells": [
    {
      "cell_type": "markdown",
      "metadata": {
        "id": "view-in-github",
        "colab_type": "text"
      },
      "source": [
        "<a href=\"https://colab.research.google.com/github/Pratik94229/Data_Structures/blob/main/Stacks/Assignment_15_Stacks.ipynb\" target=\"_parent\"><img src=\"https://colab.research.google.com/assets/colab-badge.svg\" alt=\"Open In Colab\"/></a>"
      ]
    },
    {
      "cell_type": "markdown",
      "source": [
        "**Question 1**\n",
        "\n",
        "Given an array arr[ ] of size N having elements, the task is to find the next greater element for each element of the array in order of their appearance in the array.Next greater element of an element in the array is the nearest element on the right which is greater than the current element.If there does not exist next greater of current element, then next greater element for current element is -1. For example, next greater of the last element is always -1.\n",
        "\n",
        "Example 1:\n",
        "```\n",
        "Input:\n",
        "N = 4, arr[] = [1 3 2 4]\n",
        "Output:\n",
        "3 4 4 -1\n",
        "```\n",
        "Explanation:\n",
        "\n",
        "In the array, the next larger element\n",
        "to 1 is 3 , 3 is 4 , 2 is 4 and for 4 ?\n",
        "since it doesn't exist, it is -1.\n",
        "\n",
        "Example 2:\n",
        "```\n",
        "Input:\n",
        "N = 5, arr[] [6 8 0 1 3]\n",
        "Output:\n",
        "8 -1 1 3 -1\n",
        "\n",
        "Explanation:\n",
        "In the array, the next larger element to\n",
        "6 is 8, for 8 there is no larger elements\n",
        "hence it is -1, for 0 it is 1 , for 1 it\n",
        "is 3 and then for 3 there is no larger\n",
        "element on right and hence -1.\n"
      ],
      "metadata": {
        "id": "VOWAvnBMRbCh"
      },
      "id": "VOWAvnBMRbCh"
    },
    {
      "cell_type": "code",
      "execution_count": 14,
      "id": "ff9984e5",
      "metadata": {
        "colab": {
          "base_uri": "https://localhost:8080/"
        },
        "id": "ff9984e5",
        "outputId": "93a09745-5f5f-4dc3-df48-8d44332ad336"
      },
      "outputs": [
        {
          "output_type": "stream",
          "name": "stdout",
          "text": [
            "11 -- 13\n",
            "13 -- 21\n",
            "21 -- -1\n",
            "3 -- -1\n"
          ]
        }
      ],
      "source": [
        "# Function to print element and NGE pair for all elements of list\n",
        "def printNGE(arr):\n",
        "\n",
        "\tfor i in range(0, len(arr), 1):\n",
        "\n",
        "\t\tnext = -1\n",
        "\t\tfor j in range(i+1, len(arr), 1):\n",
        "\t\t\tif arr[i] < arr[j]:\n",
        "\t\t\t\tnext = arr[j]\n",
        "\t\t\t\tbreak\n",
        "\n",
        "\t\tprint(str(arr[i]) + \" -- \" + str(next))\n",
        "\n",
        "\n",
        "# Driver program to test above function\n",
        "arr = [11, 13, 21, 3]\n",
        "printNGE(arr)\n",
        "\n",
        "# This code is contributed by Sunny Karira\n"
      ]
    },
    {
      "cell_type": "markdown",
      "source": [
        "**Question 2**\n",
        "\n",
        "Given an array a of integers of length n, find the nearest smaller number for every element such that the smaller element is on left side.If no small element present on the left print -1.\n",
        "\n",
        "Example 1:\n",
        "```\n",
        "Input: n = 3\n",
        "a = {1, 6, 2}\n",
        "Output: -1 1 1\n",
        "Explaination: There is no number at the\n",
        "left of 1. Smaller number than 6 and 2 is 1.\n",
        "```\n",
        "Example 2:\n",
        "```\n",
        "Input: n = 6\n",
        "a = {1, 5, 0, 3, 4, 5}\n",
        "Output: -1 1 -1 0 3 4\n",
        "```\n",
        "Explaination: Upto 3 it is easy to see\n",
        "the smaller numbers. But for 4 the smaller\n",
        "numbers are 1, 0 and 3. But among them 3\n",
        "is closest. Similary for 5 it is 4."
      ],
      "metadata": {
        "id": "zqfwLWscSEKb"
      },
      "id": "zqfwLWscSEKb"
    },
    {
      "cell_type": "code",
      "execution_count": 15,
      "id": "f5fd3a89",
      "metadata": {
        "colab": {
          "base_uri": "https://localhost:8080/"
        },
        "id": "f5fd3a89",
        "outputId": "967c18da-43e2-4b1f-bb41-caa77409c690"
      },
      "outputs": [
        {
          "output_type": "stream",
          "name": "stdout",
          "text": [
            "_, 1 , _, 0 , 2 , "
          ]
        }
      ],
      "source": [
        "# Python 3 implementation of simple\n",
        "# algorithm to find smaller element\n",
        "# on left side\n",
        "\n",
        "# Prints smaller elements on left\n",
        "# side of every element\n",
        "def printPrevSmaller(arr, n):\n",
        "\n",
        "\t# Always print empty or '_' for\n",
        "\t# first element\n",
        "\tprint(\"_, \", end=\"\")\n",
        "\n",
        "\t# Start from second element\n",
        "\tfor i in range(1, n ):\n",
        "\n",
        "\t\t# look for smaller element\n",
        "\t\t# on left of 'i'\n",
        "\t\tfor j in range(i-1 ,-2 ,-1):\n",
        "\n",
        "\t\t\tif (arr[j] < arr[i]):\n",
        "\n",
        "\t\t\t\tprint(arr[j] ,\", \",\n",
        "\t\t\t\t\t\t\tend=\"\")\n",
        "\t\t\t\tbreak\n",
        "\n",
        "\t\t# If there is no smaller\n",
        "\t\t# element on left of 'i'\n",
        "\t\tif (j == -1):\n",
        "\t\t\tprint(\"_, \", end=\"\")\n",
        "\n",
        "# Driver program to test insertion\n",
        "# sort\n",
        "arr = [1, 3, 0, 2, 5]\n",
        "n = len(arr)\n",
        "printPrevSmaller(arr, n)\n",
        "\n",
        "# This code is contributed by\n",
        "# Smitha\n"
      ]
    },
    {
      "cell_type": "markdown",
      "source": [
        "**Question 3**\n",
        "\n",
        "Implement a Stack using two queues q1 and q2.\n",
        "\n",
        "Example 1:\n",
        "```\n",
        "Input:\n",
        "push(2)\n",
        "push(3)\n",
        "pop()\n",
        "push(4)\n",
        "pop()\n",
        "Output:3 4\n",
        "```\n",
        "Explanation:\n",
        "```\n",
        "push(2) the stack will be {2}\n",
        "push(3) the stack will be {2 3}\n",
        "pop()   poped element will be 3 the\n",
        "        stack will be {2}\n",
        "push(4) the stack will be {2 4}\n",
        "pop()   poped element will be 4\n",
        "```\n",
        "Example 2:\n",
        "```\n",
        "Input:\n",
        "push(2)\n",
        "pop()\n",
        "pop()\n",
        "push(3)\n",
        "Output:2 -1\n",
        "```"
      ],
      "metadata": {
        "id": "i2-ZNlQ4Sas2"
      },
      "id": "i2-ZNlQ4Sas2"
    },
    {
      "cell_type": "code",
      "execution_count": 16,
      "id": "a5822f72",
      "metadata": {
        "colab": {
          "base_uri": "https://localhost:8080/"
        },
        "id": "a5822f72",
        "outputId": "7db8c3a7-3c61-447f-daa4-bbd72ab1eab5"
      },
      "outputs": [
        {
          "output_type": "stream",
          "name": "stdout",
          "text": [
            "3\n",
            "4\n"
          ]
        }
      ],
      "source": [
        "from queue import Queue\n",
        "\n",
        "class Stack:\n",
        "    def __init__(self):\n",
        "        self.q1 = Queue()\n",
        "        self.q2 = Queue()\n",
        "\n",
        "    def push(self, value):\n",
        "        self.q2.put(value)\n",
        "\n",
        "        while not self.q1.empty():\n",
        "            self.q2.put(self.q1.queue[0])\n",
        "            self.q1.get()\n",
        "\n",
        "        self.q1, self.q2 = self.q2, self.q1\n",
        "\n",
        "    def pop(self):\n",
        "        if self.q1.empty():\n",
        "            return -1\n",
        "        return self.q1.get()\n",
        "\n",
        "# Example usage\n",
        "s = Stack()\n",
        "s.push(2)\n",
        "s.push(3)\n",
        "print(s.pop())  # Output: 3\n",
        "s.push(4)\n",
        "print(s.pop())  # Output: 4\n"
      ]
    },
    {
      "cell_type": "markdown",
      "source": [
        "**Question 4**\n",
        "\n",
        "You are given a stack St. You have to reverse the stack using recursion.\n",
        "\n",
        "Example 1:\n",
        "```\n",
        "Input:St = {3,2,1,7,6}\n",
        "Output:{6,7,1,2,3}\n",
        "```\n",
        "Example 2:\n",
        "```\n",
        "Input:St = {4,3,9,6}\n",
        "Output:{6,9,3,4}\n",
        "```"
      ],
      "metadata": {
        "id": "ZRI4fMPGTJjc"
      },
      "id": "ZRI4fMPGTJjc"
    },
    {
      "cell_type": "code",
      "execution_count": 17,
      "id": "ce7e81ba",
      "metadata": {
        "id": "ce7e81ba"
      },
      "outputs": [],
      "source": [
        "class Stack:\n",
        "    def __init__(self):\n",
        "        self.items = []\n",
        "\n",
        "    def push(self, value):\n",
        "        self.items.append(value)\n",
        "\n",
        "    def pop(self):\n",
        "        if not self.is_empty():\n",
        "            return self.items.pop()\n",
        "\n",
        "    def is_empty(self):\n",
        "        return len(self.items) == 0\n",
        "\n",
        "def insert_at_bottom(stack, value):\n",
        "    if stack.is_empty():\n",
        "        stack.push(value)\n",
        "    else:\n",
        "        temp = stack.pop()\n",
        "        insert_at_bottom(stack, value)\n",
        "        stack.push(temp)\n",
        "\n",
        "def reverse_stack(stack):\n",
        "    if not stack.is_empty():\n",
        "        temp = stack.pop()\n",
        "        reverse_stack(stack)\n",
        "        insert_at_bottom(stack, temp)\n",
        "\n",
        "\n"
      ]
    },
    {
      "cell_type": "code",
      "execution_count": 18,
      "id": "125c1203",
      "metadata": {
        "colab": {
          "base_uri": "https://localhost:8080/"
        },
        "id": "125c1203",
        "outputId": "4af474c0-5c44-4c92-c5fc-e009ee27bff9"
      },
      "outputs": [
        {
          "output_type": "stream",
          "name": "stdout",
          "text": [
            "3 2 1 7 6 "
          ]
        }
      ],
      "source": [
        "# Example usage\n",
        "s = Stack()\n",
        "s.push(3)\n",
        "s.push(2)\n",
        "s.push(1)\n",
        "s.push(7)\n",
        "s.push(6)\n",
        "\n",
        "reverse_stack(s)\n",
        "\n",
        "# Print the reversed stack\n",
        "while not s.is_empty():\n",
        "    print(s.pop(), end=\" \")"
      ]
    },
    {
      "cell_type": "markdown",
      "source": [
        "**Question 5**\n",
        "\n",
        "You are given a string S, the task is to reverse the string using stack.\n",
        "\n",
        "Example 1:\n",
        "```\n",
        "Input: S=\"GeeksforGeeks\"\n",
        "Output: skeeGrofskeeG\n",
        "  "
      ],
      "metadata": {
        "id": "oPsrWj20TxHQ"
      },
      "id": "oPsrWj20TxHQ"
    },
    {
      "cell_type": "code",
      "execution_count": 19,
      "id": "862e96bb",
      "metadata": {
        "colab": {
          "base_uri": "https://localhost:8080/"
        },
        "id": "862e96bb",
        "outputId": "d8977467-ab00-44d1-a0e3-0fc7cae64949"
      },
      "outputs": [
        {
          "output_type": "stream",
          "name": "stdout",
          "text": [
            "skeeGrofskeeG\n"
          ]
        }
      ],
      "source": [
        "class Stack:\n",
        "    def __init__(self):\n",
        "        self.items = []\n",
        "\n",
        "    def push(self, value):\n",
        "        self.items.append(value)\n",
        "\n",
        "    def pop(self):\n",
        "        if not self.is_empty():\n",
        "            return self.items.pop()\n",
        "\n",
        "    def is_empty(self):\n",
        "        return len(self.items) == 0\n",
        "\n",
        "def reverse_string(s):\n",
        "    stack = Stack()\n",
        "\n",
        "    # Push each character into the stack\n",
        "    for char in s:\n",
        "        stack.push(char)\n",
        "\n",
        "    reversed_str = \"\"\n",
        "\n",
        "    # Pop the characters from the stack\n",
        "    while not stack.is_empty():\n",
        "        reversed_str += stack.pop()\n",
        "\n",
        "    return reversed_str\n",
        "\n",
        "# Example usage\n",
        "S = \"GeeksforGeeks\"\n",
        "reversed_S = reverse_string(S)\n",
        "print(reversed_S)\n"
      ]
    },
    {
      "cell_type": "markdown",
      "source": [
        "**Question 6**\n",
        "\n",
        "Given string S representing a postfix expression, the task is to evaluate the expression and find the final value. Operators will only include the basic arithmetic operators like , /, + and -.\n",
        "\n",
        "Example 1:\n",
        "```\n",
        "Input: S = \"231*+9-\"\n",
        "Output: -4\n",
        "Explanation:\n",
        "After solving the given expression,\n",
        "we have -4 as result.\n",
        "```\n",
        "Example 2:\n",
        "```\n",
        "Input: S = \"123+*8-\"\n",
        "Output: -3\n",
        "Explanation:\n",
        "After solving the given postfix\n",
        "expression, we have -3 as result.\n",
        "```"
      ],
      "metadata": {
        "id": "SCJrSRXlUWie"
      },
      "id": "SCJrSRXlUWie"
    },
    {
      "cell_type": "code",
      "execution_count": 20,
      "id": "60cb7969",
      "metadata": {
        "colab": {
          "base_uri": "https://localhost:8080/"
        },
        "id": "60cb7969",
        "outputId": "85878b80-dd87-4c63-f055-c0f249721320"
      },
      "outputs": [
        {
          "output_type": "stream",
          "name": "stdout",
          "text": [
            "-4\n"
          ]
        }
      ],
      "source": [
        "class Stack:\n",
        "    def __init__(self):\n",
        "        self.items = []\n",
        "\n",
        "    def push(self, value):\n",
        "        self.items.append(value)\n",
        "\n",
        "    def pop(self):\n",
        "        if not self.is_empty():\n",
        "            return self.items.pop()\n",
        "\n",
        "    def is_empty(self):\n",
        "        return len(self.items) == 0\n",
        "\n",
        "def evaluate_postfix(expression):\n",
        "    stack = Stack()\n",
        "\n",
        "    for char in expression:\n",
        "        if char.isdigit():\n",
        "            stack.push(int(char))\n",
        "        else:\n",
        "            operand2 = stack.pop()\n",
        "            operand1 = stack.pop()\n",
        "\n",
        "            if char == '+':\n",
        "                result = operand1 + operand2\n",
        "            elif char == '-':\n",
        "                result = operand1 - operand2\n",
        "            elif char == '*':\n",
        "                result = operand1 * operand2\n",
        "            elif char == '/':\n",
        "                result = operand1 / operand2\n",
        "\n",
        "            stack.push(result)\n",
        "\n",
        "    return stack.pop()\n",
        "\n",
        "# Example usage\n",
        "S = \"231*+9-\"\n",
        "result = evaluate_postfix(S)\n",
        "print(result)\n"
      ]
    },
    {
      "cell_type": "markdown",
      "source": [
        "**Question 7**\n",
        "\n",
        "Design a stack that supports push, pop, top, and retrieving the minimum element in constant time.\n",
        "\n",
        "Implement the `MinStack` class:\n",
        "\n",
        "- MinStack() initializes the stack object.\n",
        "- void push(int val) pushes the element val onto the stack.\n",
        "- void pop() removes the element on the top of the stack.\n",
        "- int top() gets the top element of the stack.\n",
        "- int getMin() retrieves the minimum element in the stack.\n",
        "\n",
        "You must implement a solution with O(1) time complexity for each function.\n",
        "\n",
        "Example 1:\n",
        "```\n",
        "Input\n",
        "[\"MinStack\",\"push\",\"push\",\"push\",\"getMin\",\"pop\",\"top\",\"getMin\"]\n",
        "[[],[-2],[0],[-3],[],[],[],[]]\n",
        "\n",
        "Output\n",
        "[null,null,null,null,-3,null,0,-2]\n",
        "```\n",
        "Explanation\n",
        "```\n",
        "MinStack minStack = new MinStack();\n",
        "minStack.push(-2);\n",
        "minStack.push(0);\n",
        "minStack.push(-3);\n",
        "minStack.getMin(); // return -3\n",
        "minStack.pop();\n",
        "minStack.top();    // return 0\n",
        "minStack.getMin(); // return -2\n",
        "```"
      ],
      "metadata": {
        "id": "CP6Z_fFuUwiu"
      },
      "id": "CP6Z_fFuUwiu"
    },
    {
      "cell_type": "code",
      "execution_count": 21,
      "id": "b0c9de1a",
      "metadata": {
        "colab": {
          "base_uri": "https://localhost:8080/"
        },
        "id": "b0c9de1a",
        "outputId": "5f7f17d7-e98a-4d42-fdd3-118c226c67d6"
      },
      "outputs": [
        {
          "output_type": "stream",
          "name": "stdout",
          "text": [
            "-3\n",
            "0\n",
            "-2\n"
          ]
        }
      ],
      "source": [
        "class MinStack:\n",
        "    def __init__(self):\n",
        "        self.stack = []\n",
        "        self.min_stack = []\n",
        "\n",
        "    def push(self, val):\n",
        "        self.stack.append(val)\n",
        "        if not self.min_stack or val <= self.min_stack[-1]:\n",
        "            self.min_stack.append(val)\n",
        "\n",
        "    def pop(self):\n",
        "        if self.stack[-1] == self.min_stack[-1]:\n",
        "            self.min_stack.pop()\n",
        "        self.stack.pop()\n",
        "\n",
        "    def top(self):\n",
        "        return self.stack[-1]\n",
        "\n",
        "    def getMin(self):\n",
        "        return self.min_stack[-1]\n",
        "\n",
        "# Example usage\n",
        "minStack = MinStack()\n",
        "minStack.push(-2)\n",
        "minStack.push(0)\n",
        "minStack.push(-3)\n",
        "print(minStack.getMin())  # Output: -3\n",
        "minStack.pop()\n",
        "print(minStack.top())     # Output: 0\n",
        "print(minStack.getMin())  # Output: -2\n"
      ]
    },
    {
      "cell_type": "markdown",
      "source": [
        "**Question 8**\n",
        "\n",
        "Given n non-negative integers representing an elevation map where the width of each bar is 1, compute how much water it can trap after raining.\n",
        "\n",
        "Example 1:\n",
        "```\n",
        "!https://assets.leetcode.com/uploads/2018/10/22/rainwatertrap.png\n",
        "Input: height = [0,1,0,2,1,0,1,3,2,1,2,1]\n",
        "Output: 6\n",
        "Explanation: The above elevation map (black section) is represented by array [0,1,0,2,1,0,1,3,2,1,2,1]. In this case, 6 units of rain water (blue section) are being trapped.\n",
        "```\n",
        "Example 2:\n",
        "```\n",
        "Input: height = [4,2,0,3,2,5]\n",
        "Output: 9\n",
        "```"
      ],
      "metadata": {
        "id": "deMYobZtVOUQ"
      },
      "id": "deMYobZtVOUQ"
    },
    {
      "cell_type": "code",
      "execution_count": 22,
      "id": "c55109aa",
      "metadata": {
        "colab": {
          "base_uri": "https://localhost:8080/"
        },
        "id": "c55109aa",
        "outputId": "7c2cff2d-24b9-4a41-fbba-6c84f27f7e92"
      },
      "outputs": [
        {
          "output_type": "stream",
          "name": "stdout",
          "text": [
            "6\n",
            "9\n"
          ]
        }
      ],
      "source": [
        "def trap(height):\n",
        "    left = 0\n",
        "    right = len(height) - 1\n",
        "    left_max = right_max = water = 0\n",
        "\n",
        "    while left <= right:\n",
        "        if height[left] <= height[right]:\n",
        "            left_max = max(left_max, height[left])\n",
        "            water += left_max - height[left]\n",
        "            left += 1\n",
        "        else:\n",
        "            right_max = max(right_max, height[right])\n",
        "            water += right_max - height[right]\n",
        "            right -= 1\n",
        "\n",
        "    return water\n",
        "\n",
        "# Example usage\n",
        "height = [0,1,0,2,1,0,1,3,2,1,2,1]\n",
        "print(trap(height))  # Output: 6\n",
        "\n",
        "height = [4,2,0,3,2,5]\n",
        "print(trap(height))  # Output: 9\n"
      ]
    }
  ],
  "metadata": {
    "kernelspec": {
      "display_name": "Python 3 (ipykernel)",
      "language": "python",
      "name": "python3"
    },
    "language_info": {
      "codemirror_mode": {
        "name": "ipython",
        "version": 3
      },
      "file_extension": ".py",
      "mimetype": "text/x-python",
      "name": "python",
      "nbconvert_exporter": "python",
      "pygments_lexer": "ipython3",
      "version": "3.9.13"
    },
    "colab": {
      "provenance": [],
      "include_colab_link": true
    }
  },
  "nbformat": 4,
  "nbformat_minor": 5
}