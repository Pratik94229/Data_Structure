{
  "nbformat": 4,
  "nbformat_minor": 0,
  "metadata": {
    "colab": {
      "provenance": [],
      "authorship_tag": "ABX9TyMZWtMAfWQG5nl1pTcEN5Es",
      "include_colab_link": true
    },
    "kernelspec": {
      "name": "python3",
      "display_name": "Python 3"
    },
    "language_info": {
      "name": "python"
    }
  },
  "cells": [
    {
      "cell_type": "markdown",
      "metadata": {
        "id": "view-in-github",
        "colab_type": "text"
      },
      "source": [
        "<a href=\"https://colab.research.google.com/github/Pratik94229/Data_Structures/blob/main/Tree.ipynb\" target=\"_parent\"><img src=\"https://colab.research.google.com/assets/colab-badge.svg\" alt=\"Open In Colab\"/></a>"
      ]
    },
    {
      "cell_type": "code",
      "source": [
        "#creating constructor\n",
        "class Node:\n",
        "    def __init__(self, value):\n",
        "        self.value = value\n",
        "        self.left = None\n",
        "        self.right = None\n",
        "\n",
        "\n",
        "class BinarySearchTree:\n",
        "    def __init__(self):\n",
        "        self.root = None\n",
        ""
      ],
      "metadata": {
        "id": "Gxh87eppd9Ti"
      },
      "execution_count": 1,
      "outputs": []
    },
    {
      "cell_type": "code",
      "source": [
        "my_tree = BinarySearchTree()\n",
        "\n",
        "print(my_tree.root)"
      ],
      "metadata": {
        "colab": {
          "base_uri": "https://localhost:8080/"
        },
        "id": "-6aw5IY7ltGp",
        "outputId": "28349292-6092-4ae5-fddc-6e2df7d7297a"
      },
      "execution_count": 2,
      "outputs": [
        {
          "output_type": "stream",
          "name": "stdout",
          "text": [
            "None\n"
          ]
        }
      ]
    },
    {
      "cell_type": "code",
      "source": [
        "#creating insert method to insert value\n",
        "class Node:\n",
        "    def __init__(self, value):\n",
        "        self.value = value\n",
        "        self.left = None\n",
        "        self.right = None\n",
        "\n",
        "\n",
        "class BinarySearchTree:\n",
        "    def __init__(self):\n",
        "        self.root = None\n",
        "\n",
        "    def insert(self, value):\n",
        "        new_node = Node(value)\n",
        "        #if tree is empty\n",
        "        if self.root is None:\n",
        "            self.root = new_node\n",
        "            return True\n",
        "        temp = self.root\n",
        "        while (True):\n",
        "          #if node already exists\n",
        "            if new_node.value == temp.value:\n",
        "                return False\n",
        "            if new_node.value < temp.value:\n",
        "              #if left node empty\n",
        "                if temp.left is None:\n",
        "                    temp.left = new_node\n",
        "                    return True\n",
        "                temp = temp.left\n",
        "            else:\n",
        "              #if right node is empty\n",
        "                if temp.right is None:\n",
        "                    temp.right = new_node\n",
        "                    return True\n",
        "                temp = temp.right\n",
        "\n",
        "\n"
      ],
      "metadata": {
        "id": "E9_DZRa3d_3U"
      },
      "execution_count": 7,
      "outputs": []
    },
    {
      "cell_type": "code",
      "source": [
        "my_tree = BinarySearchTree()\n",
        "my_tree.insert(2)\n",
        "my_tree.insert(1)\n",
        "my_tree.insert(3)\n",
        "print(my_tree.root.value)\n",
        ""
      ],
      "metadata": {
        "colab": {
          "base_uri": "https://localhost:8080/"
        },
        "id": "K6cvoAKrl2Kg",
        "outputId": "9f61091b-e344-41f7-e905-6964c335622e"
      },
      "execution_count": 8,
      "outputs": [
        {
          "output_type": "stream",
          "name": "stdout",
          "text": [
            "2\n"
          ]
        }
      ]
    },
    {
      "cell_type": "code",
      "source": [
        "print(my_tree.root.left.value)\n",
        "print(my_tree.root.right.value)"
      ],
      "metadata": {
        "colab": {
          "base_uri": "https://localhost:8080/"
        },
        "id": "3rFitVZFl9e9",
        "outputId": "53ecdf0f-97ad-4836-ad2b-58c899b73ebf"
      },
      "execution_count": 9,
      "outputs": [
        {
          "output_type": "stream",
          "name": "stdout",
          "text": [
            "1\n",
            "3\n"
          ]
        }
      ]
    },
    {
      "cell_type": "code",
      "execution_count": 12,
      "metadata": {
        "id": "f8ToLBUed2kz"
      },
      "outputs": [],
      "source": [
        "#creating contains method to check if element exists or not\n",
        "class Node:\n",
        "    def __init__(self, value):\n",
        "        self.value = value\n",
        "        self.left = None\n",
        "        self.right = None\n",
        "\n",
        "\n",
        "class BinarySearchTree:\n",
        "    def __init__(self):\n",
        "        self.root = None\n",
        "\n",
        "    def insert(self, value):\n",
        "        new_node = Node(value)\n",
        "        #if tree is empty\n",
        "        if self.root is None:\n",
        "            self.root = new_node\n",
        "            return True\n",
        "        temp = self.root\n",
        "        while (True):\n",
        "            #if value already exist\n",
        "            if new_node.value == temp.value:\n",
        "                return False\n",
        "            if new_node.value < temp.value:\n",
        "                #if left node is empty\n",
        "                if temp.left is None:\n",
        "                    temp.left = new_node\n",
        "                    return True\n",
        "                temp = temp.left\n",
        "            else:\n",
        "              #if right node is empty\n",
        "                if temp.right is None:\n",
        "                    temp.right = new_node\n",
        "                    return True\n",
        "                temp = temp.right\n",
        "\n",
        "    def contains(self, value):\n",
        "        temp = self.root\n",
        "        while (temp is not None):\n",
        "            if value < temp.value:\n",
        "                temp = temp.left\n",
        "            elif value > temp.value:\n",
        "                temp = temp.right\n",
        "            else:\n",
        "                return True\n",
        "        return False\n",
        "\n"
      ]
    },
    {
      "cell_type": "code",
      "source": [
        "my_tree = BinarySearchTree()\n",
        "my_tree.insert(47)\n",
        "my_tree.insert(21)\n",
        "my_tree.insert(76)\n",
        "my_tree.insert(18)\n",
        "my_tree.insert(27)\n",
        "my_tree.insert(52)\n",
        "my_tree.insert(82)"
      ],
      "metadata": {
        "colab": {
          "base_uri": "https://localhost:8080/"
        },
        "id": "37CNogAbd4VD",
        "outputId": "87e0427e-f68e-420b-bcc4-d250dcf384c1"
      },
      "execution_count": 13,
      "outputs": [
        {
          "output_type": "execute_result",
          "data": {
            "text/plain": [
              "True"
            ]
          },
          "metadata": {},
          "execution_count": 13
        }
      ]
    },
    {
      "cell_type": "code",
      "source": [
        "print(my_tree.contains(27))\n",
        "\n",
        "print(my_tree.contains(17))"
      ],
      "metadata": {
        "colab": {
          "base_uri": "https://localhost:8080/"
        },
        "id": "680dLD0Fd5HK",
        "outputId": "5ae2cdf5-0ddd-48d8-c241-ec4ff6d5c4d8"
      },
      "execution_count": 14,
      "outputs": [
        {
          "output_type": "stream",
          "name": "stdout",
          "text": [
            "True\n",
            "False\n"
          ]
        }
      ]
    }
  ]
}