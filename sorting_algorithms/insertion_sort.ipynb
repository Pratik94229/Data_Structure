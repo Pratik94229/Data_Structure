{
  "nbformat": 4,
  "nbformat_minor": 0,
  "metadata": {
    "colab": {
      "provenance": [],
      "authorship_tag": "ABX9TyOnH4TzceS31e25xQcvwS39",
      "include_colab_link": true
    },
    "kernelspec": {
      "name": "python3",
      "display_name": "Python 3"
    },
    "language_info": {
      "name": "python"
    }
  },
  "cells": [
    {
      "cell_type": "markdown",
      "metadata": {
        "id": "view-in-github",
        "colab_type": "text"
      },
      "source": [
        "<a href=\"https://colab.research.google.com/github/Pratik94229/Data_Structures/blob/main/sorting_algorithms/insertion_sort.ipynb\" target=\"_parent\"><img src=\"https://colab.research.google.com/assets/colab-badge.svg\" alt=\"Open In Colab\"/></a>"
      ]
    },
    {
      "cell_type": "code",
      "execution_count": 1,
      "metadata": {
        "id": "qPkZrMe7h-Ip"
      },
      "outputs": [],
      "source": [
        "def insertion_sort(my_list):\n",
        "    for i in range(1, len(my_list)):\n",
        "        temp = my_list[i]\n",
        "        j = i-1\n",
        "        while temp < my_list[j] and j > -1:\n",
        "            my_list[j+1] = my_list[j]\n",
        "            my_list[j] = temp\n",
        "            j -= 1\n",
        "    return my_list"
      ]
    },
    {
      "cell_type": "code",
      "source": [
        "print(insertion_sort([4,2,6,5,1,3]))"
      ],
      "metadata": {
        "colab": {
          "base_uri": "https://localhost:8080/"
        },
        "id": "sXW7W2YdiETa",
        "outputId": "2fcd594e-0ec4-426a-de1b-adc079570f8a"
      },
      "execution_count": 2,
      "outputs": [
        {
          "output_type": "stream",
          "name": "stdout",
          "text": [
            "[1, 2, 3, 4, 5, 6]\n"
          ]
        }
      ]
    }
  ]
}