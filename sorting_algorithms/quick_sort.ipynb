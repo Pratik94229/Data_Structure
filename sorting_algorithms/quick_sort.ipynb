{
  "nbformat": 4,
  "nbformat_minor": 0,
  "metadata": {
    "colab": {
      "provenance": [],
      "authorship_tag": "ABX9TyPMVl5q2enTOQL8cs+2suke",
      "include_colab_link": true
    },
    "kernelspec": {
      "name": "python3",
      "display_name": "Python 3"
    },
    "language_info": {
      "name": "python"
    }
  },
  "cells": [
    {
      "cell_type": "markdown",
      "metadata": {
        "id": "view-in-github",
        "colab_type": "text"
      },
      "source": [
        "<a href=\"https://colab.research.google.com/github/Pratik94229/Data_Structures/blob/main/sorting_algorithms/quick_sort.ipynb\" target=\"_parent\"><img src=\"https://colab.research.google.com/assets/colab-badge.svg\" alt=\"Open In Colab\"/></a>"
      ]
    },
    {
      "cell_type": "code",
      "execution_count": 2,
      "metadata": {
        "id": "BK4S_5DxIm7Y"
      },
      "outputs": [],
      "source": [
        "def swap(my_list, index1, index2):\n",
        "  my_list[index2],my_list[index1]=my_list[index1],my_list[index2]\n",
        "\n",
        "\n",
        "\n",
        "def pivot(my_list, pivot_index, end_index):\n",
        "    swap_index = pivot_index\n",
        "\n",
        "    for i in range(pivot_index+1, end_index+1):\n",
        "        if my_list[i] < my_list[pivot_index]:\n",
        "            swap_index += 1\n",
        "            swap(my_list, swap_index, i)\n",
        "    swap(my_list, pivot_index, swap_index)\n",
        "    return swap_index\n"
      ]
    },
    {
      "cell_type": "code",
      "source": [
        "my_list = [4,6,1,7,3,2,5]\n",
        "\n",
        "print(pivot(my_list, 0, 6))\n",
        "\n",
        "print(my_list)"
      ],
      "metadata": {
        "colab": {
          "base_uri": "https://localhost:8080/"
        },
        "id": "Z5cqXiNGIup0",
        "outputId": "57279a8d-f46f-4667-b30b-20641df06930"
      },
      "execution_count": 3,
      "outputs": [
        {
          "output_type": "stream",
          "name": "stdout",
          "text": [
            "3\n",
            "[2, 1, 3, 4, 6, 7, 5]\n"
          ]
        }
      ]
    },
    {
      "cell_type": "code",
      "source": [
        "def quick_sort_helper(my_list, left, right):\n",
        "    if left < right:\n",
        "        pivot_index = pivot(my_list, left, right)\n",
        "        quick_sort_helper(my_list, left, pivot_index-1)\n",
        "        quick_sort_helper(my_list, pivot_index+1, right)\n",
        "    return my_list\n",
        "\n",
        "def quick_sort(my_list):\n",
        "    return quick_sort_helper(my_list, 0, len(my_list)-1)\n",
        "\n"
      ],
      "metadata": {
        "id": "cXfk9huUKiUP"
      },
      "execution_count": 4,
      "outputs": []
    },
    {
      "cell_type": "code",
      "source": [
        "print(quick_sort([4,6,1,7,3,2,5]))"
      ],
      "metadata": {
        "colab": {
          "base_uri": "https://localhost:8080/"
        },
        "id": "6BW_x5uwKkFI",
        "outputId": "feffb76e-0f8c-4e84-c4ee-bdada06a08db"
      },
      "execution_count": 5,
      "outputs": [
        {
          "output_type": "stream",
          "name": "stdout",
          "text": [
            "[1, 2, 3, 4, 5, 6, 7]\n"
          ]
        }
      ]
    }
  ]
}