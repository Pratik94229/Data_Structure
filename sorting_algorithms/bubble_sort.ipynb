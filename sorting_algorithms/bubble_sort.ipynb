{
  "nbformat": 4,
  "nbformat_minor": 0,
  "metadata": {
    "colab": {
      "provenance": []
    },
    "kernelspec": {
      "name": "python3",
      "display_name": "Python 3"
    },
    "language_info": {
      "name": "python"
    }
  },
  "cells": [
    {
      "cell_type": "code",
      "execution_count": 1,
      "metadata": {
        "id": "1ZRZaaUHd_-H"
      },
      "outputs": [],
      "source": [
        "#Bubble sort\n",
        "def bubble_sort(my_list):\n",
        "    for i in range(len(my_list) - 1, 0 ,-1):\n",
        "        for j in range(i):\n",
        "            if my_list[j] > my_list[j+1]:\n",
        "                temp = my_list[j]\n",
        "                my_list[j] = my_list[j+1]\n",
        "                my_list[j+1] = temp\n",
        "    return my_list\n"
      ]
    },
    {
      "cell_type": "code",
      "source": [
        "print(bubble_sort([4,2,6,5,1,3]))"
      ],
      "metadata": {
        "colab": {
          "base_uri": "https://localhost:8080/"
        },
        "id": "yqFYuH2meWij",
        "outputId": "97d75d86-4c69-4207-854c-eb24ba7db501"
      },
      "execution_count": 2,
      "outputs": [
        {
          "output_type": "stream",
          "name": "stdout",
          "text": [
            "[1, 2, 3, 4, 5, 6]\n"
          ]
        }
      ]
    }
  ]
}