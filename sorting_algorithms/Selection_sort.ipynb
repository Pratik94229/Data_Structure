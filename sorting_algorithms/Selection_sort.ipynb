{
  "nbformat": 4,
  "nbformat_minor": 0,
  "metadata": {
    "colab": {
      "provenance": [],
      "authorship_tag": "ABX9TyPevEcClLAV5CNjpVxma7zE",
      "include_colab_link": true
    },
    "kernelspec": {
      "name": "python3",
      "display_name": "Python 3"
    },
    "language_info": {
      "name": "python"
    }
  },
  "cells": [
    {
      "cell_type": "markdown",
      "metadata": {
        "id": "view-in-github",
        "colab_type": "text"
      },
      "source": [
        "<a href=\"https://colab.research.google.com/github/Pratik94229/Data_Structures/blob/main/sorting_algorithms/Selection_sort.ipynb\" target=\"_parent\"><img src=\"https://colab.research.google.com/assets/colab-badge.svg\" alt=\"Open In Colab\"/></a>"
      ]
    },
    {
      "cell_type": "code",
      "execution_count": 1,
      "metadata": {
        "id": "jhUXxfzGhA74"
      },
      "outputs": [],
      "source": [
        "def selection_sort(my_list):\n",
        "    for i in range(len(my_list)-1):\n",
        "        min_index = i\n",
        "        for j in range(i+1, len(my_list)):\n",
        "            if my_list[j] < my_list[min_index]:\n",
        "                min_index = j\n",
        "        if i != min_index:\n",
        "          my_list[min_index],my_list[i]=my_list[i],my_list[min_index]\n",
        "\n",
        "    return my_list\n"
      ]
    },
    {
      "cell_type": "code",
      "source": [
        "print(selection_sort([4,2,6,5,1,3]))\n"
      ],
      "metadata": {
        "colab": {
          "base_uri": "https://localhost:8080/"
        },
        "id": "CxaqKwXehFqX",
        "outputId": "dda31d98-f2b9-414f-b9fd-f35b9b384f7a"
      },
      "execution_count": 2,
      "outputs": [
        {
          "output_type": "stream",
          "name": "stdout",
          "text": [
            "[1, 2, 3, 4, 5, 6]\n"
          ]
        }
      ]
    }
  ]
}