{
  "nbformat": 4,
  "nbformat_minor": 0,
  "metadata": {
    "colab": {
      "provenance": [],
      "authorship_tag": "ABX9TyOOAfM/TFOJo64AliEJya58",
      "include_colab_link": true
    },
    "kernelspec": {
      "name": "python3",
      "display_name": "Python 3"
    },
    "language_info": {
      "name": "python"
    }
  },
  "cells": [
    {
      "cell_type": "markdown",
      "metadata": {
        "id": "view-in-github",
        "colab_type": "text"
      },
      "source": [
        "<a href=\"https://colab.research.google.com/github/Pratik94229/Data_Structures/blob/main/sorting_algorithms/Merge_sort.ipynb\" target=\"_parent\"><img src=\"https://colab.research.google.com/assets/colab-badge.svg\" alt=\"Open In Colab\"/></a>"
      ]
    },
    {
      "cell_type": "code",
      "execution_count": 6,
      "metadata": {
        "id": "CE2pXuuIwjr9"
      },
      "outputs": [],
      "source": [
        "#for merging two sorted list\n",
        "def merge(list1, list2):\n",
        "    combined = []\n",
        "    i = 0\n",
        "    j = 0\n",
        "    while i < len(list1) and j < len(list2):\n",
        "        if list1[i] < list2[j]:\n",
        "            combined.append(list1[i])\n",
        "            i += 1\n",
        "        else:\n",
        "            combined.append(list2[j])\n",
        "            j += 1\n",
        "\n",
        "    while i < len(list1):\n",
        "        combined.append(list1[i])\n",
        "        i += 1\n",
        "\n",
        "    while j < len(list2):\n",
        "        combined.append(list2[j])\n",
        "        j += 1\n",
        "\n",
        "    return combined\n"
      ]
    },
    {
      "cell_type": "code",
      "source": [
        "print(merge([1,2,7,8], [3,4,5,6]))"
      ],
      "metadata": {
        "colab": {
          "base_uri": "https://localhost:8080/"
        },
        "id": "75O-qb7k21i8",
        "outputId": "895f41c7-62ac-494b-92dd-4c34a571e354"
      },
      "execution_count": 7,
      "outputs": [
        {
          "output_type": "stream",
          "name": "stdout",
          "text": [
            "[1, 2, 3, 4, 5, 6, 7, 8]\n"
          ]
        }
      ]
    },
    {
      "cell_type": "code",
      "source": [
        "def merge_sort(my_list):\n",
        "    if len(my_list) == 1:\n",
        "        return my_list\n",
        "    mid = int(len(my_list)/2)\n",
        "    left = my_list[:mid]\n",
        "    right = my_list[mid:]\n",
        "    return merge(merge_sort(left), merge_sort(right))"
      ],
      "metadata": {
        "id": "iQ9sQ79t3iTW"
      },
      "execution_count": 8,
      "outputs": []
    },
    {
      "cell_type": "code",
      "source": [
        "print(merge_sort([3,1,4,2]))"
      ],
      "metadata": {
        "colab": {
          "base_uri": "https://localhost:8080/"
        },
        "id": "iC0jqCOY3ieC",
        "outputId": "45654b73-3338-4009-8505-5a0cd54b6ba7"
      },
      "execution_count": 9,
      "outputs": [
        {
          "output_type": "stream",
          "name": "stdout",
          "text": [
            "[1, 2, 3, 4]\n"
          ]
        }
      ]
    }
  ]
}