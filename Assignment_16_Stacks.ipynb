{
  "cells": [
    {
      "cell_type": "markdown",
      "metadata": {
        "id": "view-in-github",
        "colab_type": "text"
      },
      "source": [
        "<a href=\"https://colab.research.google.com/github/Pratik94229/Data_Structures/blob/main/Assignment_16_Stacks.ipynb\" target=\"_parent\"><img src=\"https://colab.research.google.com/assets/colab-badge.svg\" alt=\"Open In Colab\"/></a>"
      ]
    },
    {
      "cell_type": "markdown",
      "source": [
        "**Question 1**\n",
        "\n",
        "Given an array, for each element find the value of the nearest element to the right which is having a frequency greater than that of the current element. If there does not exist an answer for a position, then make the value ‘-1’.\n",
        "\n",
        "Examples:\n",
        "```\n",
        "Input: a[] = [1, 1, 2, 3, 4, 2, 1]\n",
        "Output : [-1, -1, 1, 2, 2, 1, -1]\n",
        "```\n",
        "Explanation:\n",
        "```\n",
        "Given array a[] = [1, 1, 2, 3, 4, 2, 1]\n",
        "Frequency of each element is: 3, 3, 2, 1, 1, 2, 3\n",
        "```\n",
        "Lets calls Next Greater Frequency element as NGF\n",
        "```\n",
        "1. For element a[0] = 1 which has a frequency = 3,\n",
        "   As it has frequency of 3 and no other next element\n",
        "   has frequency more than 3 so  '-1'\n",
        "2. For element a[1] = 1 it will be -1 same logic\n",
        "   like a[0]\n",
        "3. For element a[2] = 2 which has frequency = 2,\n",
        "   NGF element is 1 at position = 6  with frequency\n",
        "   of 3 > 2\n",
        "4. For element a[3] = 3 which has frequency = 1,\n",
        "   NGF element is 2 at position = 5 with frequency\n",
        "   of 2 > 1\n",
        "5. For element a[4] = 4 which has frequency = 1,\n",
        "   NGF element is 2 at position = 5 with frequency\n",
        "   of 2 > 1\n",
        "6. For element a[5] = 2 which has frequency = 2,\n",
        "   NGF element is 1 at position = 6 with frequency\n",
        "   of 3 > 2\n",
        "7. For element a[6] = 1 there is no element to its\n",
        "   right, hence -1\n",
        "    \n",
        "    \n",
        "Input : a[] = [1, 1, 1, 2, 2, 2, 2, 11, 3, 3]\n",
        "Output : [2, 2, 2, -1, -1, -1, -1, 3, -1, -1]    \n",
        "```"
      ],
      "metadata": {
        "id": "U4KfeLaIllP8"
      },
      "id": "U4KfeLaIllP8"
    },
    {
      "cell_type": "code",
      "execution_count": 21,
      "id": "af42996e",
      "metadata": {
        "colab": {
          "base_uri": "https://localhost:8080/"
        },
        "id": "af42996e",
        "outputId": "a8e9dbbf-cf01-40c5-a9e8-6a2e32873d58"
      },
      "outputs": [
        {
          "output_type": "stream",
          "name": "stdout",
          "text": [
            "[-1, -1, 1, 2, 2, 1, -1]\n"
          ]
        }
      ],
      "source": [
        "'''NFG function to find the next greater frequency\n",
        "element for each element in the array'''\n",
        "\n",
        "\n",
        "def NFG(a, n):\n",
        "\n",
        "\tif (n <= 0):\n",
        "\t\tprint(\"List empty\")\n",
        "\t\treturn []\n",
        "\n",
        "\t# stack data structure to store the position\n",
        "\t# of array element\n",
        "\tstack = [0]*n\n",
        "\n",
        "\t# freq is a dictionary which maintains the\n",
        "\t# frequency of each element\n",
        "\tfreq = {}\n",
        "\tfor i in a:\n",
        "\t\tfreq[a[i]] = 0\n",
        "\tfor i in a:\n",
        "\t\tfreq[a[i]] += 1\n",
        "\n",
        "\t# res to store the value of next greater\n",
        "\t# frequency element for each element\n",
        "\tres = [0]*n\n",
        "\n",
        "\t# initialize top of stack to -1\n",
        "\ttop = -1\n",
        "\n",
        "\t# push the first position of array in the stack\n",
        "\ttop += 1\n",
        "\tstack[top] = 0\n",
        "\n",
        "\t# now iterate for the rest of elements\n",
        "\tfor i in range(1, n):\n",
        "\n",
        "\t\t''' If the frequency of the element which is\n",
        "\t\t\tpointed by the top of stack is greater\n",
        "\t\t\tthan frequency of the current element\n",
        "\t\t\tthen push the current position i in stack'''\n",
        "\t\tif (freq[a[stack[top]]] > freq[a[i]]):\n",
        "\t\t\ttop += 1\n",
        "\t\t\tstack[top] = i\n",
        "\n",
        "\t\telse:\n",
        "\t\t\t''' If the frequency of the element which\n",
        "\t\t\tis pointed by the top of stack is less\n",
        "\t\t\tthan frequency of the current element, then\n",
        "\t\t\tpop the stack and continuing popping until\n",
        "\t\t\tthe above condition is true while the stack\n",
        "\t\t\tis not empty'''\n",
        "\n",
        "\t\t\twhile (top > -1 and freq[a[stack[top]]] < freq[a[i]]):\n",
        "\t\t\t\tres[stack[top]] = a[i]\n",
        "\t\t\t\ttop -= 1\n",
        "\n",
        "\t\t\t# now push the current element\n",
        "\t\t\ttop += 1\n",
        "\t\t\tstack[top] = i\n",
        "\n",
        "\t'''After iterating over the loop, the remaining\n",
        "\tposition of elements in stack do not have the\n",
        "\tnext greater element, so print -1 for them'''\n",
        "\twhile (top > -1):\n",
        "\t\tres[stack[top]] = -1\n",
        "\t\ttop -= 1\n",
        "\n",
        "\t# return the res list containing next\n",
        "\t# greater frequency element\n",
        "\treturn res\n",
        "\n",
        "\n",
        "# Driver Code\n",
        "print(NFG([1, 1, 2, 3, 4, 2, 1], 7))\n"
      ]
    },
    {
      "cell_type": "markdown",
      "source": [
        "**Question 2**\n",
        "\n",
        "Given a stack of integers, sort it in ascending order using another temporary stack.\n",
        "\n",
        "Examples:\n",
        "```\n",
        "Input : [34, 3, 31, 98, 92, 23]\n",
        "Output : [3, 23, 31, 34, 92, 98]\n",
        "```\n",
        "```\n",
        "Input : [3, 5, 1, 4, 2, 8]\n",
        "Output : [1, 2, 3, 4, 5, 8]\n",
        "```"
      ],
      "metadata": {
        "id": "6OUlJos-vTSE"
      },
      "id": "6OUlJos-vTSE"
    },
    {
      "cell_type": "code",
      "execution_count": 31,
      "id": "2a49d616",
      "metadata": {
        "colab": {
          "base_uri": "https://localhost:8080/"
        },
        "id": "2a49d616",
        "outputId": "3ba780c6-71e8-4689-8ec7-ea3e8846b2c8"
      },
      "outputs": [
        {
          "output_type": "stream",
          "name": "stdout",
          "text": [
            "Sorted numbers are: \n",
            "3 23 31 34 92 98 \n"
          ]
        }
      ],
      "source": [
        "# Python program to sort a\n",
        "# stack using auxiliary stack.\n",
        "\n",
        "# This function return the sorted stack\n",
        "def sortStack ( stack ):\n",
        "\ttmpStack = createStack()\n",
        "\twhile(isEmpty(stack) == False):\n",
        "\n",
        "\t\t# pop out the first element\n",
        "\t\ttmp = top(stack)\n",
        "\t\tpop(stack)\n",
        "\n",
        "\t\t# while temporary stack is not\n",
        "\t\t# empty and top of stack is\n",
        "\t\t# lesser than temp\n",
        "\t\twhile(isEmpty(tmpStack) == False and\n",
        "\t\t\tint(top(tmpStack)) < int(tmp)):\n",
        "\n",
        "\t\t\t# pop from temporary stack and\n",
        "\t\t\t# push it to the input stack\n",
        "\t\t\tpush(stack,top(tmpStack))\n",
        "\t\t\tpop(tmpStack)\n",
        "\n",
        "\t\t# push temp in temporary of stack\n",
        "\t\tpush(tmpStack,tmp)\n",
        "\n",
        "\treturn tmpStack\n",
        "\n",
        "# Below is a complete running\n",
        "# program for testing above\n",
        "# function.\n",
        "\n",
        "# Function to create a stack.\n",
        "# It initializes size of stack\n",
        "# as 0\n",
        "def createStack():\n",
        "\tstack = []\n",
        "\treturn stack\n",
        "\n",
        "# Function to check if\n",
        "# the stack is empty\n",
        "def isEmpty( stack ):\n",
        "\treturn len(stack) == 0\n",
        "\n",
        "# Function to push an\n",
        "# item to stack\n",
        "def push( stack, item ):\n",
        "\tstack.append( item )\n",
        "\n",
        "# Function to get top\n",
        "# item of stack\n",
        "def top( stack ):\n",
        "\tp = len(stack)\n",
        "\treturn stack[p-1]\n",
        "\n",
        "# Function to pop an\n",
        "# item from stack\n",
        "def pop( stack ):\n",
        "\n",
        "\t# If stack is empty\n",
        "\t# then error\n",
        "\tif(isEmpty( stack )):\n",
        "\t\tprint(\"Stack Underflow \")\n",
        "\t\texit(1)\n",
        "\n",
        "\treturn stack.pop()\n",
        "\n",
        "# Function to print the stack\n",
        "def prints(stack):\n",
        "\tfor i in range(len(stack)-1, -1, -1):\n",
        "\t\tprint(stack[i], end = ' ')\n",
        "\tprint()\n",
        "\n",
        "# Driver Code\n",
        "stack = createStack()\n",
        "push( stack, str(34) )\n",
        "push( stack, str(3) )\n",
        "push( stack, str(31) )\n",
        "push( stack, str(98) )\n",
        "push( stack, str(92) )\n",
        "push( stack, str(23) )\n",
        "\n",
        "print(\"Sorted numbers are: \")\n",
        "sortedst = sortStack ( stack )\n",
        "prints(sortedst)\n",
        "\n"
      ]
    },
    {
      "cell_type": "markdown",
      "source": [
        "**Question 3**\n",
        "\n",
        "Given a stack with push(), pop(), and empty() operations, The task is to delete the middle element of it without using any additional data structure.\n",
        "```\n",
        "Input  : Stack[] = [1, 2, 3, 4, 5]\n",
        "\n",
        "Output : Stack[] = [1, 2, 4, 5]\n",
        "\n",
        "Input  : Stack[] = [1, 2, 3, 4, 5, 6]\n",
        "\n",
        "Output : Stack[] = [1, 2, 4, 5, 6]\n"
      ],
      "metadata": {
        "id": "xBe19navvf3b"
      },
      "id": "xBe19navvf3b"
    },
    {
      "cell_type": "code",
      "execution_count": 23,
      "id": "01763cbc",
      "metadata": {
        "id": "01763cbc"
      },
      "outputs": [],
      "source": [
        "def delete_middle(stack, index):\n",
        "    if not stack:\n",
        "        return\n",
        "\n",
        "    if index == len(stack) // 2:\n",
        "        stack.pop()\n",
        "        return\n",
        "\n",
        "    temp = stack.pop()\n",
        "    delete_middle(stack, index + 1)\n",
        "    stack.append(temp)\n",
        "\n",
        "def delete_middle_element(stack):\n",
        "    delete_middle(stack, 0)\n",
        "\n",
        "\n"
      ]
    },
    {
      "cell_type": "code",
      "source": [
        "# Example usage\n",
        "stack = [1, 2, 3, 4, 5]\n",
        "delete_middle_element(stack)\n",
        "print(stack)\n",
        "\n",
        "stack = [1, 2, 3, 4, 5, 6]\n",
        "delete_middle_element(stack)\n",
        "print(stack)"
      ],
      "metadata": {
        "colab": {
          "base_uri": "https://localhost:8080/"
        },
        "id": "8wb0zx6IwFh_",
        "outputId": "0ba4a0cf-1b7f-4cb3-d08c-be0d907a1938"
      },
      "id": "8wb0zx6IwFh_",
      "execution_count": 24,
      "outputs": [
        {
          "output_type": "stream",
          "name": "stdout",
          "text": [
            "[1, 2, 3, 4, 5]\n",
            "[1, 2, 3, 5, 6]\n"
          ]
        }
      ]
    },
    {
      "cell_type": "markdown",
      "source": [
        "**Question 4**\n",
        "\n",
        "Given a Queue consisting of first n natural numbers (in random order). The task is to check whether the given Queue elements can be arranged in increasing order in another Queue using a stack. The operation allowed are:\n",
        "\n",
        "1. Push and pop elements from the stack\n",
        "2. Pop (Or Dequeue) from the given Queue.\n",
        "3. Push (Or Enqueue) in the another Queue.\n",
        "\n",
        "Examples :\n",
        "```\n",
        "Input : Queue[] = { 5, 1, 2, 3, 4 }\n",
        "\n",
        "Output : Yes\n",
        "\n",
        "\n",
        "Pop the first element of the given Queue\n",
        "\n",
        "i.e 5. Push 5 into the stack.\n",
        "\n",
        "Now, pop all the elements of the given Queue and push them to second Queue.\n",
        "\n",
        "Now, pop element 5 in the stack and push it to the second Queue.\n",
        "\n",
        "Input : Queue[] = { 5, 1, 2, 6, 3, 4 }\n",
        "\n",
        "Output : No\n",
        "\n",
        "Push 5 to stack.\n",
        "\n",
        "Pop 1, 2 from given Queue and push it to another Queue.\n",
        "\n",
        "Pop 6 from given Queue and push to stack.\n",
        "\n",
        "Pop 3, 4 from given Queue and push to second Queue.\n",
        "\n",
        "Now, from using any of above operation, we cannot push 5 into the second Queue because it is below the 6 in the stack.\n",
        "\n"
      ],
      "metadata": {
        "id": "tZZ57nX2wY2U"
      },
      "id": "tZZ57nX2wY2U"
    },
    {
      "cell_type": "code",
      "execution_count": 32,
      "id": "b0b2b571",
      "metadata": {
        "colab": {
          "base_uri": "https://localhost:8080/"
        },
        "id": "b0b2b571",
        "outputId": "145738e4-64b4-47b6-93a6-dd84548e2c2d"
      },
      "outputs": [
        {
          "output_type": "stream",
          "name": "stdout",
          "text": [
            "No\n"
          ]
        }
      ],
      "source": [
        "from queue import Queue\n",
        "\n",
        "def check_increasing_order(queue):\n",
        "    stack = []\n",
        "    second_queue = Queue()\n",
        "\n",
        "    while not queue.empty():\n",
        "        current = queue.get()\n",
        "\n",
        "        if current == queue.queue[0]:\n",
        "            second_queue.put(current)\n",
        "        elif current > queue.queue[0]:\n",
        "            stack.append(current)\n",
        "        else:\n",
        "            if not stack:\n",
        "                return \"No\"\n",
        "            while stack and stack[-1] >= current:\n",
        "                second_queue.put(stack.pop())\n",
        "            second_queue.put(current)\n",
        "\n",
        "    while stack:\n",
        "        second_queue.put(stack.pop())\n",
        "\n",
        "    return \"Yes\" if stack == [] else \"No\"\n",
        "\n",
        "# Example usage\n",
        "queue = Queue()\n",
        "queue.put(5)\n",
        "queue.put(1)\n",
        "queue.put(2)\n",
        "queue.put(3)\n",
        "queue.put(4)\n",
        "\n",
        "print(check_increasing_order(queue))\n",
        "\n"
      ]
    },
    {
      "cell_type": "code",
      "execution_count": 26,
      "id": "3fb33bb4",
      "metadata": {
        "colab": {
          "base_uri": "https://localhost:8080/"
        },
        "id": "3fb33bb4",
        "outputId": "ac64cb6e-a959-43c7-e33d-074872b44aa1"
      },
      "outputs": [
        {
          "output_type": "stream",
          "name": "stdout",
          "text": [
            "No\n"
          ]
        }
      ],
      "source": [
        "queue = Queue()\n",
        "queue.put(5)\n",
        "queue.put(1)\n",
        "queue.put(2)\n",
        "queue.put(6)\n",
        "queue.put(3)\n",
        "queue.put(4)\n",
        "\n",
        "print(check_increasing_order(queue))"
      ]
    },
    {
      "cell_type": "markdown",
      "source": [
        "**Question 5**\n",
        "\n",
        "Given a number , write a program to reverse this number using stack.\n",
        "\n",
        "Examples:\n",
        "```\n",
        "Input : 365\n",
        "Output : 563\n",
        "```\n",
        "```\n",
        "Input : 6899\n",
        "Output : 9986  \n",
        "```"
      ],
      "metadata": {
        "id": "IAtOhlb9w9C0"
      },
      "id": "IAtOhlb9w9C0"
    },
    {
      "cell_type": "code",
      "execution_count": 27,
      "id": "465a1012",
      "metadata": {
        "colab": {
          "base_uri": "https://localhost:8080/"
        },
        "id": "465a1012",
        "outputId": "e760f3cf-ebde-49ce-9600-b131a13b8da7"
      },
      "outputs": [
        {
          "output_type": "stream",
          "name": "stdout",
          "text": [
            "563\n",
            "9986\n"
          ]
        }
      ],
      "source": [
        "def reverse_number(num):\n",
        "    num_str = str(num)\n",
        "    stack = []\n",
        "\n",
        "    # Push each digit onto the stack\n",
        "    for digit in num_str:\n",
        "        stack.append(digit)\n",
        "\n",
        "    reversed_str = \"\"\n",
        "\n",
        "    # Pop each digit from the stack and append it to the new string\n",
        "    while stack:\n",
        "        reversed_str += stack.pop()\n",
        "\n",
        "    reversed_num = int(reversed_str)\n",
        "    return reversed_num\n",
        "\n",
        "# Example usage\n",
        "num = 365\n",
        "print(reverse_number(num))  ]\n",
        "\n",
        "num = 6899\n",
        "print(reverse_number(num))\n"
      ]
    },
    {
      "cell_type": "markdown",
      "source": [
        "**Question 6**\n",
        "\n",
        "Given an integer k and a [queue](https://www.geeksforgeeks.org/queue-data-structure/) of integers, The task is to reverse the order of the first k elements of the queue, leaving the other elements in the same relative order.\n",
        "\n",
        "Only following standard operations are allowed on queue.\n",
        "\n",
        "- enqueue(x) : Add an item x to rear of queue\n",
        "- dequeue() : Remove an item from front of queue\n",
        "- size() : Returns number of elements in queue.\n",
        "- front() : Finds front item.\n",
        "    "
      ],
      "metadata": {
        "id": "V0skvj7kxSxs"
      },
      "id": "V0skvj7kxSxs"
    },
    {
      "cell_type": "code",
      "execution_count": 28,
      "id": "76c04a41",
      "metadata": {
        "colab": {
          "base_uri": "https://localhost:8080/"
        },
        "id": "76c04a41",
        "outputId": "07612340-ea9c-4fa9-d614-eab528654015"
      },
      "outputs": [
        {
          "output_type": "stream",
          "name": "stdout",
          "text": [
            "3 2 1 "
          ]
        }
      ],
      "source": [
        "from queue import Queue\n",
        "\n",
        "def reverse_k_elements(queue, k):\n",
        "    if k <= 0 or k > queue.qsize():\n",
        "        return queue\n",
        "\n",
        "    stack = []\n",
        "\n",
        "    # Dequeue the first k elements and push them onto the stack\n",
        "    for _ in range(k):\n",
        "        stack.append(queue.get())\n",
        "\n",
        "    # Dequeue all remaining elements and enqueue them back into the queue\n",
        "    while not queue.empty():\n",
        "        queue.get()\n",
        "\n",
        "    # Enqueue the elements from the stack back into the queue\n",
        "    while stack:\n",
        "        queue.put(stack.pop())\n",
        "\n",
        "    return queue\n",
        "\n",
        "# Example usage\n",
        "queue = Queue()\n",
        "queue.put(1)\n",
        "queue.put(2)\n",
        "queue.put(3)\n",
        "queue.put(4)\n",
        "queue.put(5)\n",
        "\n",
        "k = 3\n",
        "reversed_queue = reverse_k_elements(queue, k)\n",
        "\n",
        "# Print the reversed queue\n",
        "while not reversed_queue.empty():\n",
        "    print(reversed_queue.get(), end=\" \")\n"
      ]
    },
    {
      "cell_type": "markdown",
      "source": [
        "**Question 7**\n",
        "\n",
        "Given a sequence of n strings, the task is to check if any two similar words come together and then destroy each other then print the number of words left in the sequence after this pairwise destruction.\n",
        "\n",
        "Examples:\n",
        "```\n",
        "Input : ab aa aa bcd ab\n",
        "\n",
        "Output : 3\n",
        "As aa, aa destroys each other so,\n",
        "\n",
        "ab bcd ab is the new sequence.\n",
        "```\n",
        "````\n",
        "Input :  tom jerry jerry tom\n",
        "\n",
        "Output : 0\n",
        "As first both jerry will destroy each other.\n",
        "```\n",
        "Then sequence will be tom, tom they will also destroy\n",
        "\n",
        "each other. So, the final sequence doesn’t contain any\n",
        "\n",
        "word.\n",
        "\n"
      ],
      "metadata": {
        "id": "2qMIs3rdxe11"
      },
      "id": "2qMIs3rdxe11"
    },
    {
      "cell_type": "code",
      "source": [
        "def pairwise_destruction(sequence):\n",
        "    stack = []\n",
        "\n",
        "    for word in sequence:\n",
        "        if stack and stack[-1] == word:\n",
        "            stack.pop()  # Destroy the pair of similar words\n",
        "        else:\n",
        "            stack.append(word)  # Push the word onto the stack\n",
        "\n",
        "    return len(stack)\n",
        "\n",
        "# Example usage\n",
        "sequence = ['ab', 'aa', 'aa', 'bcd', 'ab']\n",
        "result = pairwise_destruction(sequence)\n",
        "print(result)\n"
      ],
      "metadata": {
        "colab": {
          "base_uri": "https://localhost:8080/"
        },
        "id": "rQyiJsjky67V",
        "outputId": "df9ab736-38d4-4f3d-b5bc-76cf9f29dbc5"
      },
      "id": "rQyiJsjky67V",
      "execution_count": 29,
      "outputs": [
        {
          "output_type": "stream",
          "name": "stdout",
          "text": [
            "3\n"
          ]
        }
      ]
    },
    {
      "cell_type": "markdown",
      "source": [
        "**Question 8**\n",
        "\n",
        "Given an array of integers, the task is to find the maximum absolute difference between the nearest left and the right smaller element of every element in the array.\n",
        "\n",
        "Note: If there is no smaller element on right side or left side of any element then we take zero as the smaller element. For example for the leftmost element, the nearest smaller element on the left side is considered as 0. Similarly, for rightmost elements, the smaller element on the right side is considered as 0.\n",
        "\n",
        "Examples:\n",
        "```\n",
        "Input : arr[] = {2, 1, 8}\n",
        "Output : 1\n",
        "Left smaller  LS[] {0, 0, 1}\n",
        "Right smaller RS[] {1, 0, 0}\n",
        "Maximum Diff of abs(LS[i] - RS[i]) = 1\n",
        "```\n",
        "```\n",
        "Input  : arr[] = {2, 4, 8, 7, 7, 9, 3}\n",
        "Output : 4\n",
        "Left smaller   LS[] = {0, 2, 4, 4, 4, 7, 2}\n",
        "Right smaller  RS[] = {0, 3, 7, 3, 3, 3, 0}\n",
        "Maximum Diff of abs(LS[i] - RS[i]) = 7 - 3 = 4\n",
        "\n",
        "Input : arr[] = {5, 1, 9, 2, 5, 1, 7}\n",
        "Output : 1\n",
        "```"
      ],
      "metadata": {
        "id": "t9U53t0RyEbX"
      },
      "id": "t9U53t0RyEbX"
    },
    {
      "cell_type": "code",
      "execution_count": 30,
      "id": "e3c468e1",
      "metadata": {
        "colab": {
          "base_uri": "https://localhost:8080/"
        },
        "id": "e3c468e1",
        "outputId": "7a390f32-71ad-4d61-b094-d00ec6f8545f"
      },
      "outputs": [
        {
          "output_type": "stream",
          "name": "stdout",
          "text": [
            "1\n"
          ]
        }
      ],
      "source": [
        "def max_absolute_difference(arr):\n",
        "    n = len(arr)\n",
        "\n",
        "    LS = [0] * n\n",
        "    RS = [0] * n\n",
        "\n",
        "    # Find nearest left smaller elements\n",
        "    stack = []\n",
        "    for i in range(n):\n",
        "        while stack and stack[-1] >= arr[i]:\n",
        "            stack.pop()\n",
        "\n",
        "        if not stack:\n",
        "            LS[i] = 0\n",
        "        else:\n",
        "            LS[i] = stack[-1]\n",
        "\n",
        "        stack.append(arr[i])\n",
        "\n",
        "    # Clear the stack\n",
        "    stack = []\n",
        "\n",
        "    # Find nearest right smaller elements\n",
        "    for i in range(n - 1, -1, -1):\n",
        "        while stack and stack[-1] >= arr[i]:\n",
        "            stack.pop()\n",
        "\n",
        "        if not stack:\n",
        "            RS[i] = 0\n",
        "        else:\n",
        "            RS[i] = stack[-1]\n",
        "\n",
        "        stack.append(arr[i])\n",
        "\n",
        "    max_diff = 0\n",
        "    for i in range(n):\n",
        "        diff = abs(LS[i] - RS[i])\n",
        "        max_diff = max(max_diff, diff)\n",
        "\n",
        "    return max_diff\n",
        "\n",
        "# Example usage\n",
        "arr = [2, 1, 8]\n",
        "result = max_absolute_difference(arr)\n",
        "print(result)\n"
      ]
    }
  ],
  "metadata": {
    "kernelspec": {
      "display_name": "Python 3 (ipykernel)",
      "language": "python",
      "name": "python3"
    },
    "language_info": {
      "codemirror_mode": {
        "name": "ipython",
        "version": 3
      },
      "file_extension": ".py",
      "mimetype": "text/x-python",
      "name": "python",
      "nbconvert_exporter": "python",
      "pygments_lexer": "ipython3",
      "version": "3.9.13"
    },
    "colab": {
      "provenance": [],
      "include_colab_link": true
    }
  },
  "nbformat": 4,
  "nbformat_minor": 5
}