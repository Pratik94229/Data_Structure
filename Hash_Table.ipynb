{
  "nbformat": 4,
  "nbformat_minor": 0,
  "metadata": {
    "colab": {
      "provenance": [],
      "authorship_tag": "ABX9TyONPearbnUBAz5R/rB8xbPV",
      "include_colab_link": true
    },
    "kernelspec": {
      "name": "python3",
      "display_name": "Python 3"
    },
    "language_info": {
      "name": "python"
    }
  },
  "cells": [
    {
      "cell_type": "markdown",
      "metadata": {
        "id": "view-in-github",
        "colab_type": "text"
      },
      "source": [
        "<a href=\"https://colab.research.google.com/github/Pratik94229/Data_Structures/blob/main/Hash_Table.ipynb\" target=\"_parent\"><img src=\"https://colab.research.google.com/assets/colab-badge.svg\" alt=\"Open In Colab\"/></a>"
      ]
    },
    {
      "cell_type": "code",
      "execution_count": 1,
      "metadata": {
        "id": "63inEbTs4NLT"
      },
      "outputs": [],
      "source": [
        "#creating constructor\n",
        "class HashTable:\n",
        "    def __init__(self, size = 7):\n",
        "        self.data_map = [None] * size\n",
        "\n",
        "    def __hash(self, key):\n",
        "        my_hash = 0\n",
        "        for letter in key:\n",
        "            my_hash = (my_hash + ord(letter) * 23) % len(self.data_map)\n",
        "        return my_hash\n",
        "\n",
        "    def print_table(self):\n",
        "        for i, val in enumerate(self.data_map):\n",
        "            print(i, \": \", val)\n"
      ]
    },
    {
      "cell_type": "code",
      "source": [
        "my_hash_table = HashTable()\n",
        "my_hash_table.print_table()"
      ],
      "metadata": {
        "colab": {
          "base_uri": "https://localhost:8080/"
        },
        "id": "-hZwJopF6nos",
        "outputId": "a283cad6-4cea-46d2-df5d-5f9228e1b6b2"
      },
      "execution_count": 2,
      "outputs": [
        {
          "output_type": "stream",
          "name": "stdout",
          "text": [
            "0 :  None\n",
            "1 :  None\n",
            "2 :  None\n",
            "3 :  None\n",
            "4 :  None\n",
            "5 :  None\n",
            "6 :  None\n"
          ]
        }
      ]
    },
    {
      "cell_type": "code",
      "source": [
        "#creating set_item method\n",
        "class HashTable:\n",
        "    def __init__(self, size = 7):\n",
        "        self.data_map = [None] * size\n",
        "\n",
        "    def print_table(self):\n",
        "        for i, val in enumerate(self.data_map):\n",
        "            print(i, \": \", val)\n",
        "\n",
        "    def __hash(self, key):\n",
        "        my_hash = 0\n",
        "        for letter in key:\n",
        "            my_hash = (my_hash + ord(letter) * 23) % len(self.data_map)\n",
        "        return my_hash\n",
        "\n",
        "    def set_item(self, key, value):\n",
        "        index = self.__hash(key)\n",
        "        if self.data_map[index] == None:\n",
        "            self.data_map[index] = []\n",
        "        self.data_map[index].append([key, value])\n",
        "\n",
        "\n",
        "\n"
      ],
      "metadata": {
        "id": "UAkZNuyg4gtw"
      },
      "execution_count": 4,
      "outputs": []
    },
    {
      "cell_type": "code",
      "source": [
        "my_hash_table = HashTable()\n",
        "\n",
        "my_hash_table.set_item('bolts', 1400)\n",
        "my_hash_table.set_item('washers', 50)\n",
        "my_hash_table.set_item('lumber', 70)\n",
        "\n",
        "my_hash_table.print_table()"
      ],
      "metadata": {
        "colab": {
          "base_uri": "https://localhost:8080/"
        },
        "id": "sJLfKV5r7wjy",
        "outputId": "77375181-e3ea-4224-83e1-c98d42cee3c6"
      },
      "execution_count": 10,
      "outputs": [
        {
          "output_type": "stream",
          "name": "stdout",
          "text": [
            "0 :  None\n",
            "1 :  None\n",
            "2 :  None\n",
            "3 :  None\n",
            "4 :  [['bolts', 1400], ['washers', 50]]\n",
            "5 :  None\n",
            "6 :  [['lumber', 70]]\n"
          ]
        }
      ]
    },
    {
      "cell_type": "code",
      "source": [
        "#creating get_item method\n",
        "class HashTable:\n",
        "    def __init__(self, size = 7):\n",
        "        self.data_map = [None] * size\n",
        "\n",
        "    def __hash(self, key):\n",
        "        my_hash = 0\n",
        "        for letter in key:\n",
        "            my_hash = (my_hash + ord(letter) * 23) % len(self.data_map)\n",
        "        return my_hash\n",
        "\n",
        "    def print_table(self):\n",
        "        for i, val in enumerate(self.data_map):\n",
        "            print(i, \": \", val)\n",
        "\n",
        "    def set_item(self, key, value):\n",
        "        index = self.__hash(key)\n",
        "        if self.data_map[index] == None:\n",
        "            self.data_map[index] = []\n",
        "        self.data_map[index].append([key, value])\n",
        "\n",
        "    def get_item(self, key):\n",
        "        index = self.__hash(key)\n",
        "        if self.data_map[index] is not None:\n",
        "            for i in range(len(self.data_map[index])):\n",
        "                if self.data_map[index][i][0] == key:\n",
        "                    return self.data_map[index][i][1]\n",
        "        return None\n",
        "\n"
      ],
      "metadata": {
        "id": "ZVdWkbS_4gxH"
      },
      "execution_count": 11,
      "outputs": []
    },
    {
      "cell_type": "code",
      "source": [
        "my_hash_table = HashTable()\n",
        "my_hash_table.set_item('bolts', 1400)\n",
        "my_hash_table.set_item('washers', 50)\n",
        "my_hash_table.print_table()\n"
      ],
      "metadata": {
        "colab": {
          "base_uri": "https://localhost:8080/"
        },
        "id": "S57dxmEiAdTi",
        "outputId": "d6707f83-d5fd-4fb3-9e2a-98d591966c6e"
      },
      "execution_count": 12,
      "outputs": [
        {
          "output_type": "stream",
          "name": "stdout",
          "text": [
            "0 :  None\n",
            "1 :  None\n",
            "2 :  None\n",
            "3 :  None\n",
            "4 :  [['bolts', 1400], ['washers', 50]]\n",
            "5 :  None\n",
            "6 :  None\n"
          ]
        }
      ]
    },
    {
      "cell_type": "code",
      "source": [
        "print(my_hash_table.get_item('bolts'))\n",
        "print(my_hash_table.get_item('washers'))\n",
        "print(my_hash_table.get_item('lumber'))"
      ],
      "metadata": {
        "colab": {
          "base_uri": "https://localhost:8080/"
        },
        "id": "e39kUH8aBplZ",
        "outputId": "6154b3da-155f-41b7-bac9-9f922c99e001"
      },
      "execution_count": 13,
      "outputs": [
        {
          "output_type": "stream",
          "name": "stdout",
          "text": [
            "1400\n",
            "50\n",
            "None\n"
          ]
        }
      ]
    },
    {
      "cell_type": "code",
      "source": [
        "#creating method to print all keys in hash table\n",
        "class HashTable:\n",
        "    def __init__(self, size = 7):\n",
        "        self.data_map = [None] * size\n",
        "\n",
        "    def __hash(self, key):\n",
        "        my_hash = 0\n",
        "        for letter in key:\n",
        "            my_hash = (my_hash + ord(letter) * 23) % len(self.data_map)\n",
        "        return my_hash\n",
        "\n",
        "    def print_table(self):\n",
        "        for i, val in enumerate(self.data_map):\n",
        "            print(i, \": \", val)\n",
        "\n",
        "    def set_item(self, key, value):\n",
        "        index = self.__hash(key)\n",
        "        if self.data_map[index] == None:\n",
        "            self.data_map[index] = []\n",
        "        self.data_map[index].append([key, value])\n",
        "\n",
        "    def get_item(self, key):\n",
        "        index = self.__hash(key)\n",
        "        if self.data_map[index] is not None:\n",
        "            for i in range(len(self.data_map[index])):\n",
        "                if self.data_map[index][i][0] == key:\n",
        "                    return self.data_map[index][i][1]\n",
        "        return None\n",
        "\n",
        "    def keys(self):\n",
        "        all_keys = []\n",
        "        for i in range(len(self.data_map)):\n",
        "            if self.data_map[i] is not None:\n",
        "                for j in range(len(self.data_map[i])):\n",
        "                    all_keys.append(self.data_map[i][j][0])\n",
        "        return all_keys\n",
        "\n",
        "\n"
      ],
      "metadata": {
        "id": "d7aTdjlj4tPr"
      },
      "execution_count": 16,
      "outputs": []
    },
    {
      "cell_type": "code",
      "source": [
        "my_hash_table = HashTable()\n",
        "\n",
        "my_hash_table.set_item('bolts', 1400)\n",
        "my_hash_table.set_item('washers', 50)\n",
        "my_hash_table.set_item('lumber', 70)\n",
        "\n",
        "my_hash_table.print_table()"
      ],
      "metadata": {
        "colab": {
          "base_uri": "https://localhost:8080/"
        },
        "id": "NWmwtrOrBxN1",
        "outputId": "1cc0035d-c1d5-4d59-e76b-ca0f6adb6481"
      },
      "execution_count": 17,
      "outputs": [
        {
          "output_type": "stream",
          "name": "stdout",
          "text": [
            "0 :  None\n",
            "1 :  None\n",
            "2 :  None\n",
            "3 :  None\n",
            "4 :  [['bolts', 1400], ['washers', 50]]\n",
            "5 :  None\n",
            "6 :  [['lumber', 70]]\n"
          ]
        }
      ]
    },
    {
      "cell_type": "code",
      "source": [
        "print(my_hash_table.keys())"
      ],
      "metadata": {
        "colab": {
          "base_uri": "https://localhost:8080/"
        },
        "id": "YhCHA3bvCWDo",
        "outputId": "965c408f-231b-45bf-fa96-3f7fa3094f14"
      },
      "execution_count": 18,
      "outputs": [
        {
          "output_type": "stream",
          "name": "stdout",
          "text": [
            "['bolts', 'washers', 'lumber']\n"
          ]
        }
      ]
    },
    {
      "cell_type": "code",
      "source": [],
      "metadata": {
        "id": "n5LIK-Ur4g0o"
      },
      "execution_count": null,
      "outputs": []
    }
  ]
}