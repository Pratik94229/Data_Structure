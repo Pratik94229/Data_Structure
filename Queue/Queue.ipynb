{
  "nbformat": 4,
  "nbformat_minor": 0,
  "metadata": {
    "colab": {
      "provenance": [],
      "authorship_tag": "ABX9TyOh4kz75ARRj8yheyJE1HpA",
      "include_colab_link": true
    },
    "kernelspec": {
      "name": "python3",
      "display_name": "Python 3"
    },
    "language_info": {
      "name": "python"
    }
  },
  "cells": [
    {
      "cell_type": "markdown",
      "metadata": {
        "id": "view-in-github",
        "colab_type": "text"
      },
      "source": [
        "<a href=\"https://colab.research.google.com/github/Pratik94229/Data_Structures/blob/main/Queue/Queue.ipynb\" target=\"_parent\"><img src=\"https://colab.research.google.com/assets/colab-badge.svg\" alt=\"Open In Colab\"/></a>"
      ]
    },
    {
      "cell_type": "code",
      "execution_count": null,
      "metadata": {
        "id": "7s3-3_Gg8BmW"
      },
      "outputs": [],
      "source": [
        "#creating contructor\n",
        "class Node:\n",
        "    def __init__(self, value):\n",
        "        self.value = value\n",
        "        self.next = None\n",
        "\n",
        "class Queue:\n",
        "    def __init__(self, value):\n",
        "        new_node = Node(value)\n",
        "        self.first = new_node\n",
        "        self.last = new_node\n",
        "        self.length = 1\n",
        "\n",
        "    def print_queue(self):\n",
        "        temp = self.first\n",
        "        while temp is not None:\n",
        "            print(temp.value)\n",
        "            temp = temp.next\n"
      ]
    },
    {
      "cell_type": "code",
      "source": [
        "my_queue = Queue(4)\n",
        "my_queue.print_queue()"
      ],
      "metadata": {
        "colab": {
          "base_uri": "https://localhost:8080/"
        },
        "id": "SiSfOG1eVjSW",
        "outputId": "9ef862b2-e52c-4a00-fc65-c4821d0c06af"
      },
      "execution_count": null,
      "outputs": [
        {
          "output_type": "stream",
          "name": "stdout",
          "text": [
            "4\n"
          ]
        }
      ]
    },
    {
      "cell_type": "code",
      "source": [
        "#creating enqueue method\n",
        "class Node:\n",
        "    def __init__(self, value):\n",
        "        self.value = value\n",
        "        self.next = None\n",
        "\n",
        "\n",
        "class Queue:\n",
        "    def __init__(self, value):\n",
        "        new_node = Node(value)\n",
        "        self.first = new_node\n",
        "        self.last = new_node\n",
        "        self.length = 1\n",
        "\n",
        "    def print_queue(self):\n",
        "        temp = self.first\n",
        "        while temp is not None:\n",
        "            print(temp.value)\n",
        "            temp = temp.next\n",
        "\n",
        "    def enqueue(self, value):\n",
        "        new_node = Node(value)\n",
        "        if self.first is None:\n",
        "            self.first = new_node\n",
        "            self.last = new_node\n",
        "        else:\n",
        "            self.last.next = new_node\n",
        "            self.last = new_node\n",
        "        self.length += 1\n",
        "\n"
      ],
      "metadata": {
        "id": "AUE38X-jU0DX"
      },
      "execution_count": null,
      "outputs": []
    },
    {
      "cell_type": "code",
      "source": [
        "my_queue = Queue(1)\n",
        "my_queue.enqueue(2)\n",
        "\n",
        "my_queue.print_queue()"
      ],
      "metadata": {
        "colab": {
          "base_uri": "https://localhost:8080/"
        },
        "id": "83Qwe5_ZV3F_",
        "outputId": "afe7d2b5-1dcc-4e3c-af0f-84374846bb77"
      },
      "execution_count": null,
      "outputs": [
        {
          "output_type": "stream",
          "name": "stdout",
          "text": [
            "1\n",
            "2\n"
          ]
        }
      ]
    },
    {
      "cell_type": "code",
      "source": [
        "#creating dequeue method\n",
        "class Node:\n",
        "    def __init__(self, value):\n",
        "        self.value = value\n",
        "        self.next = None\n",
        "\n",
        "\n",
        "class Queue:\n",
        "    def __init__(self, value):\n",
        "        new_node = Node(value)\n",
        "        self.first = new_node\n",
        "        self.last = new_node\n",
        "        self.length = 1\n",
        "\n",
        "    def print_queue(self):\n",
        "        temp = self.first\n",
        "        while temp is not None:\n",
        "            print(temp.value)\n",
        "            temp = temp.next\n",
        "\n",
        "    def enqueue(self, value):\n",
        "        new_node = Node(value)\n",
        "        if self.first is None:\n",
        "            self.first = new_node\n",
        "            self.last = new_node\n",
        "        else:\n",
        "            self.last.next = new_node\n",
        "            self.last = new_node\n",
        "        self.length += 1\n",
        "        return True\n",
        "\n",
        "    def dequeue(self):\n",
        "        if self.length == 0:\n",
        "            return None\n",
        "        temp = self.first\n",
        "        if self.length == 1:\n",
        "            self.first = None\n",
        "            self.last = None\n",
        "        else:\n",
        "            self.first = self.first.next\n",
        "            temp.next = None\n",
        "        self.length -= 1\n",
        "        return temp.value\n"
      ],
      "metadata": {
        "id": "KpUm5Mo3U2sO"
      },
      "execution_count": null,
      "outputs": []
    },
    {
      "cell_type": "code",
      "source": [
        "my_queue = Queue(1)\n",
        "my_queue.enqueue(2)\n",
        "my_queue.print_queue()"
      ],
      "metadata": {
        "colab": {
          "base_uri": "https://localhost:8080/"
        },
        "id": "Zi6C17X1WA_O",
        "outputId": "905d7e20-995b-4fdc-df48-3d0de430cd90"
      },
      "execution_count": null,
      "outputs": [
        {
          "output_type": "stream",
          "name": "stdout",
          "text": [
            "1\n",
            "2\n"
          ]
        }
      ]
    },
    {
      "cell_type": "code",
      "source": [
        "# (2) Items - Returns 2 Node\n",
        "print(my_queue.dequeue())\n",
        "# (1) Item -  Returns 1 Node\n",
        "print(my_queue.dequeue())\n",
        "# (0) Items - Returns None\n",
        "print(my_queue.dequeue())"
      ],
      "metadata": {
        "colab": {
          "base_uri": "https://localhost:8080/"
        },
        "id": "zOj3RPlyWFpx",
        "outputId": "7e01d6d6-ee7d-4b31-d982-9b49d87eb840"
      },
      "execution_count": null,
      "outputs": [
        {
          "output_type": "stream",
          "name": "stdout",
          "text": [
            "1\n",
            "2\n",
            "None\n"
          ]
        }
      ]
    }
  ]
}