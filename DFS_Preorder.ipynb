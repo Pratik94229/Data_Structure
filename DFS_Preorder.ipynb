{
  "nbformat": 4,
  "nbformat_minor": 0,
  "metadata": {
    "colab": {
      "provenance": [],
      "authorship_tag": "ABX9TyP6yc4HkS4LHb6nPWRO+Wuo",
      "include_colab_link": true
    },
    "kernelspec": {
      "name": "python3",
      "display_name": "Python 3"
    },
    "language_info": {
      "name": "python"
    }
  },
  "cells": [
    {
      "cell_type": "markdown",
      "metadata": {
        "id": "view-in-github",
        "colab_type": "text"
      },
      "source": [
        "<a href=\"https://colab.research.google.com/github/Pratik94229/Data_Structures/blob/main/DFS_Preorder.ipynb\" target=\"_parent\"><img src=\"https://colab.research.google.com/assets/colab-badge.svg\" alt=\"Open In Colab\"/></a>"
      ]
    },
    {
      "cell_type": "code",
      "execution_count": 1,
      "metadata": {
        "id": "wKUWfqS_XGOA"
      },
      "outputs": [],
      "source": [
        "class Node:\n",
        "    def __init__(self, value):\n",
        "        self.value = value\n",
        "        self.left = None\n",
        "        self.right = None\n",
        "\n",
        "\n",
        "class BinarySearchTree:\n",
        "    def __init__(self):\n",
        "        self.root = None\n",
        "\n",
        "    def insert(self, value):\n",
        "        new_node = Node(value)\n",
        "        if self.root is None:\n",
        "            self.root = new_node\n",
        "            return True\n",
        "        temp = self.root\n",
        "        while (True):\n",
        "            if new_node.value == temp.value:\n",
        "                return False\n",
        "            if new_node.value < temp.value:\n",
        "                if temp.left is None:\n",
        "                    temp.left = new_node\n",
        "                    return True\n",
        "                temp = temp.left\n",
        "            else:\n",
        "                if temp.right is None:\n",
        "                    temp.right = new_node\n",
        "                    return True\n",
        "                temp = temp.right\n",
        "\n",
        "    def contains(self, value):\n",
        "        if self.root is None:\n",
        "            return False\n",
        "        temp = self.root\n",
        "        while (temp):\n",
        "            if value < temp.value:\n",
        "                temp = temp.left\n",
        "            elif value > temp.value:\n",
        "                temp = temp.right\n",
        "            else:\n",
        "                return True\n",
        "        return False\n",
        "\n",
        "    def BFS(self):\n",
        "        current_node = self.root\n",
        "        queue = []\n",
        "        results = []\n",
        "        queue.append(current_node)\n",
        "\n",
        "        while len(queue) > 0:\n",
        "            current_node = queue.pop(0)\n",
        "            results.append(current_node.value)\n",
        "            if current_node.left is not None:\n",
        "                queue.append(current_node.left)\n",
        "            if current_node.right is not None:\n",
        "                queue.append(current_node.right)\n",
        "        return results\n",
        "\n",
        "    def dfs_pre_order(self):\n",
        "        results = []\n",
        "        def traverse(current_node):\n",
        "            results.append(current_node.value)\n",
        "            if current_node.left is not None:\n",
        "                traverse(current_node.left)\n",
        "            if current_node.right is not None:\n",
        "                traverse(current_node.right)\n",
        "        traverse(self.root)\n",
        "        return results\n"
      ]
    },
    {
      "cell_type": "code",
      "source": [
        "my_tree = BinarySearchTree()\n",
        "my_tree.insert(47)\n",
        "my_tree.insert(21)\n",
        "my_tree.insert(76)\n",
        "my_tree.insert(18)\n",
        "my_tree.insert(27)\n",
        "my_tree.insert(52)\n",
        "my_tree.insert(82)\n",
        "\n",
        "print(my_tree.dfs_pre_order())"
      ],
      "metadata": {
        "colab": {
          "base_uri": "https://localhost:8080/"
        },
        "id": "98aULGaLXNGb",
        "outputId": "7f4401d9-a4ed-4c3e-dd28-1da3d6834dea"
      },
      "execution_count": 2,
      "outputs": [
        {
          "output_type": "stream",
          "name": "stdout",
          "text": [
            "[47, 21, 18, 27, 76, 52, 82]\n"
          ]
        }
      ]
    }
  ]
}